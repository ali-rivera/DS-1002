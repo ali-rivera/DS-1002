{
  "cells": [
    {
      "cell_type": "markdown",
      "metadata": {
        "id": "view-in-github",
        "colab_type": "text"
      },
      "source": [
        "<a href=\"https://colab.research.google.com/github/gg5d/DS-1002/blob/main/random_seed_F23.ipynb\" target=\"_parent\"><img src=\"https://colab.research.google.com/assets/colab-badge.svg\" alt=\"Open In Colab\"/></a>"
      ]
    },
    {
      "cell_type": "markdown",
      "metadata": {
        "id": "YKUvBQPsUn7D"
      },
      "source": [
        "## NumPy Random Seed\n",
        "\n",
        "**!! seed() no longer best practices**\n",
        "\n",
        "[Documentation](https://numpy.org/doc/stable/reference/random/generated/numpy.random.seed.html)"
      ]
    },
    {
      "cell_type": "code",
      "execution_count": null,
      "metadata": {
        "tags": [],
        "id": "Uq8qPVW8Un7H"
      },
      "outputs": [],
      "source": [
        "import numpy as np"
      ]
    },
    {
      "cell_type": "code",
      "execution_count": null,
      "metadata": {
        "tags": [],
        "id": "eejn1i63Un7J"
      },
      "outputs": [],
      "source": [
        "np.random.seed(2023)"
      ]
    },
    {
      "cell_type": "code",
      "execution_count": null,
      "metadata": {
        "tags": [],
        "id": "RTLcTu3yUn7K",
        "outputId": "9aef19e9-1c7f-488f-d7b1-453c1813c735"
      },
      "outputs": [
        {
          "data": {
            "text/plain": [
              "93"
            ]
          },
          "execution_count": 27,
          "metadata": {},
          "output_type": "execute_result"
        }
      ],
      "source": [
        "np.random.randint(1, 100)"
      ]
    },
    {
      "cell_type": "markdown",
      "metadata": {
        "id": "HjP2INOWUn7K"
      },
      "source": [
        "## NumPy Random Generator\n",
        "\n",
        "**considered best practices**\n",
        "\n",
        "[Documentation](https://numpy.org/doc/stable/reference/random/generator.html#numpy.random.Generator)"
      ]
    },
    {
      "cell_type": "code",
      "execution_count": null,
      "metadata": {
        "tags": [],
        "id": "RhkGIxrrUn7L",
        "outputId": "29fa2e5c-c900-474c-8b19-435b202d4982"
      },
      "outputs": [
        {
          "data": {
            "text/plain": [
              "array([-0.98912135, -0.36778665,  1.28792526,  0.19397442,  0.9202309 ,\n",
              "        0.57710379, -0.63646365,  0.54195222, -0.31659545, -0.32238912])"
            ]
          },
          "execution_count": 4,
          "metadata": {},
          "output_type": "execute_result"
        }
      ],
      "source": [
        "np.random.default_rng(123).normal(0, 1, 10)"
      ]
    }
  ],
  "metadata": {
    "kernelspec": {
      "display_name": "Python 3 (ipykernel)",
      "language": "python",
      "name": "python3"
    },
    "language_info": {
      "codemirror_mode": {
        "name": "ipython",
        "version": 3
      },
      "file_extension": ".py",
      "mimetype": "text/x-python",
      "name": "python",
      "nbconvert_exporter": "python",
      "pygments_lexer": "ipython3",
      "version": "3.9.16"
    },
    "vscode": {
      "interpreter": {
        "hash": "31f2aee4e71d21fbe5cf8b01ff0e069b9275f58929596ceb00d14d90e3e16cd6"
      }
    },
    "colab": {
      "provenance": [],
      "include_colab_link": true
    }
  },
  "nbformat": 4,
  "nbformat_minor": 0
}