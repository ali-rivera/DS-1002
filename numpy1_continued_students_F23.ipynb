{
  "cells": [
    {
      "cell_type": "markdown",
      "metadata": {
        "id": "view-in-github",
        "colab_type": "text"
      },
      "source": [
        "<a href=\"https://colab.research.google.com/github/gg5d/DS-1002/blob/main/numpy1_continued_students_F23.ipynb\" target=\"_parent\"><img src=\"https://colab.research.google.com/assets/colab-badge.svg\" alt=\"Open In Colab\"/></a>"
      ]
    },
    {
      "cell_type": "markdown",
      "metadata": {
        "id": "IX87lDW8Q762"
      },
      "source": [
        "### NumPy 1\n",
        "### University of Virginia\n",
        "### DS 1002: Programming for Data Science\n",
        "### Last Updated: 10 Sept 2023\n",
        "---  \n",
        "\n",
        "### PREREQUISITES\n",
        "- import\n",
        "- functions\n",
        "- for ... in\n",
        "\n",
        "### SOURCES\n",
        "- https://numpy.org/\n",
        "- https://en.wikipedia.org/wiki/NumPy\n",
        "- https://www.scipy.org/\n",
        "- https://en.wikipedia.org/wiki/SciPy\n",
        "- https://numpy.org/doc/stable/reference/generated/numpy.ndarray.html\n",
        "- https://docs.scipy.org/doc/numpy-1.15.1/reference/generated/numpy.random.randint.html\n",
        "- https://numpy.org/devdocs/user/absolute_beginners.html\n",
        "\n",
        "### OBJECTIVES\n",
        "- Introduction to Numpy Continued\n",
        "\n",
        "### CONCEPTS\n",
        "- The numpy package contains useful functions for math operations\n",
        "- The ndarray is the workhorse of the package"
      ]
    },
    {
      "cell_type": "markdown",
      "metadata": {
        "id": "HNVq0fdEQ764"
      },
      "source": [
        "# NumPy\n",
        "\n",
        "**A new data structure**\n",
        "\n",
        "Essentially, NumPy introduces a new data structure to Python -- the **n-dimensional array**. Along with it, it introduces a collection of function and methods that take advantage of this data structure.\n",
        "\n",
        "The data structure is designed to support the use of **numerical methods**: algorithmic approximations to the problems of mathematical analysis.\n",
        "\n",
        "**New Functions**\n",
        "\n",
        "It also provides a new way of appling functions to data made possible by the data structure -- **vectorized functions**.  \n",
        "Vectorized functions replace the use of loops and comprehensions to apply a function to a set of data.\n",
        "\n",
        "In addition, given the data structure, it provides a library of **linear algebra** functions.\n",
        "\n",
        "**New Data Types**\n",
        "\n",
        "NumPy also introduces a bunch of new **data types**.\n",
        "\n",
        "**Python for Science**\n",
        "\n",
        "Finally, because [numerical methods](https://www.britannica.com/science/numerical-analysis) are so important to so many sciences, NumPy is the basis of what is called **the scientific \"stack\"** in Python, which consists of SciPy, Matplotlib, SciKitLearn, and Pandas. All of these assume that you have some knowledge of NumPy.\n",
        "\n",
        "Let's take a look at it."
      ]
    },
    {
      "cell_type": "code",
      "execution_count": null,
      "metadata": {
        "tags": [],
        "id": "1CW_pH3yQ765"
      },
      "outputs": [],
      "source": [
        "import numpy as np"
      ]
    },
    {
      "cell_type": "markdown",
      "metadata": {
        "id": "18du__P0Q766"
      },
      "source": [
        "NumPy is by widespread convention aliased as `np`."
      ]
    },
    {
      "cell_type": "markdown",
      "metadata": {
        "editable": true,
        "tags": [],
        "id": "qsd5VRmAQ766"
      },
      "source": [
        "# The ndarray\n",
        "\n",
        "The ndarray is a multidimensional array object."
      ]
    },
    {
      "cell_type": "markdown",
      "metadata": {
        "id": "gZXXjxHWQ766"
      },
      "source": [
        "## About Dimensions\n",
        "\n",
        "The term dimension is ambiguous.\n",
        "* Sometimes refers to the dimensions of things in the world, such as space and time.\n",
        "* Sometimes refers to the dimensions of a data structure, independent of what it represents in the world.\n",
        "\n",
        "NumPy dimensions are the latter, although they can be used to represent the former, as physicists do.\n",
        "\n",
        "The dimensions of data structures are sometimes called **axes**.\n",
        "\n",
        "Consider this: Three-dimensional space can be represented as three columns in a two-dimensional table OR as three axes in a data cube.\n"
      ]
    },
    {
      "cell_type": "markdown",
      "metadata": {
        "editable": true,
        "id": "poya5ZYSQ767"
      },
      "source": [
        "# Basic Indexing and Slicing"
      ]
    },
    {
      "cell_type": "code",
      "execution_count": null,
      "metadata": {
        "editable": true,
        "jupyter": {
          "outputs_hidden": false
        },
        "tags": [],
        "id": "pbJ8K3B3Q767"
      },
      "outputs": [],
      "source": [
        "arr = np.arange(10)\n",
        "arr"
      ]
    },
    {
      "cell_type": "code",
      "execution_count": null,
      "metadata": {
        "editable": true,
        "jupyter": {
          "outputs_hidden": false
        },
        "tags": [],
        "id": "1Z7BgdNFQ768"
      },
      "outputs": [],
      "source": [
        "arr[5]"
      ]
    },
    {
      "cell_type": "code",
      "execution_count": null,
      "metadata": {
        "editable": true,
        "jupyter": {
          "outputs_hidden": false
        },
        "tags": [],
        "id": "KSwffNzMQ768"
      },
      "outputs": [],
      "source": [
        "arr[5:8]"
      ]
    },
    {
      "cell_type": "markdown",
      "metadata": {
        "id": "gQGOaq5UQ768"
      },
      "source": [
        "Notice that if we assign a scalar to a slice, all of the elements of the slice get that value. This is called **broadcasting**."
      ]
    },
    {
      "cell_type": "code",
      "execution_count": null,
      "metadata": {
        "editable": true,
        "jupyter": {
          "outputs_hidden": false
        },
        "tags": [],
        "id": "Y2QG05Q3Q769"
      },
      "outputs": [],
      "source": [
        "arr[5:8] = 12"
      ]
    },
    {
      "cell_type": "code",
      "execution_count": null,
      "metadata": {
        "editable": true,
        "jupyter": {
          "outputs_hidden": false
        },
        "tags": [],
        "id": "AIJtH9pjQ769"
      },
      "outputs": [],
      "source": [
        "arr"
      ]
    },
    {
      "cell_type": "markdown",
      "metadata": {
        "id": "DksN0yw9Q769"
      },
      "source": [
        "Also, notice that changes to slices are changes to the arrays they are slices of. They are **views**, not copies."
      ]
    },
    {
      "cell_type": "code",
      "execution_count": null,
      "metadata": {
        "editable": true,
        "jupyter": {
          "outputs_hidden": false
        },
        "tags": [],
        "id": "oJo4I-z-Q76-"
      },
      "outputs": [],
      "source": [
        "arr_slice = arr[5:8]\n",
        "arr_slice"
      ]
    },
    {
      "cell_type": "code",
      "execution_count": null,
      "metadata": {
        "editable": true,
        "jupyter": {
          "outputs_hidden": false
        },
        "tags": [],
        "id": "Qga0B8pxQ76-"
      },
      "outputs": [],
      "source": [
        "arr_slice[1] = 12345\n",
        "arr"
      ]
    },
    {
      "cell_type": "code",
      "execution_count": null,
      "metadata": {
        "editable": true,
        "jupyter": {
          "outputs_hidden": false
        },
        "tags": [],
        "id": "GO_4aQwOQ76_"
      },
      "outputs": [],
      "source": [
        "arr_slice[:] = 64\n",
        "arr"
      ]
    },
    {
      "cell_type": "code",
      "execution_count": null,
      "metadata": {
        "tags": [],
        "id": "e2n9RZB3Q76_"
      },
      "outputs": [],
      "source": [
        "arr_slice"
      ]
    },
    {
      "cell_type": "markdown",
      "metadata": {
        "id": "kA6lrBDoQ77A"
      },
      "source": [
        "As NumPy has been designed with large data use cases in mind, you could imagine performance and memory problems if NumPy insisted on copying data left and right.\n",
        "\n",
        "⭐ If you want a copy of a slice of an ndarray instead of a view, you will need to explicitly copy the array; for example `arr[5:8].copy()`."
      ]
    },
    {
      "cell_type": "markdown",
      "metadata": {
        "id": "05HDABi9Q77A"
      },
      "source": [
        "**Higher Dimensional Arrays**"
      ]
    },
    {
      "cell_type": "code",
      "execution_count": null,
      "metadata": {
        "editable": true,
        "jupyter": {
          "outputs_hidden": false
        },
        "tags": [],
        "id": "r6kL6K9-Q77B"
      },
      "outputs": [],
      "source": [
        "arr2d = np.array([[1, 2, 3], [4, 5, 6], [7, 8, 9]])\n",
        "arr2d"
      ]
    },
    {
      "cell_type": "code",
      "execution_count": null,
      "metadata": {
        "editable": true,
        "jupyter": {
          "outputs_hidden": false
        },
        "tags": [],
        "id": "i3rUW_2bQ77B"
      },
      "outputs": [],
      "source": [
        "arr2d[2]"
      ]
    },
    {
      "cell_type": "code",
      "execution_count": null,
      "metadata": {
        "editable": true,
        "jupyter": {
          "outputs_hidden": false
        },
        "tags": [],
        "id": "f96CIPNbQ77C"
      },
      "outputs": [],
      "source": [
        "arr2d[0][2]"
      ]
    },
    {
      "cell_type": "markdown",
      "metadata": {
        "id": "8EEzFinMQ77C"
      },
      "source": [
        "**Simplified notation**"
      ]
    },
    {
      "cell_type": "code",
      "execution_count": null,
      "metadata": {
        "editable": true,
        "jupyter": {
          "outputs_hidden": false
        },
        "tags": [],
        "id": "BMo5WhTjQ77D"
      },
      "outputs": [],
      "source": [
        "arr2d[0, 2]"
      ]
    },
    {
      "cell_type": "markdown",
      "metadata": {
        "id": "AEECVnm5Q77D"
      },
      "source": [
        "A nice visual of a 2D array\n",
        "\n",
        "<img src=\"https://learning.oreilly.com/api/v2/epubs/urn:orm:book:9781449323592/files/httpatomoreillycomsourceoreillyimages2172112.png\" height=\"50%\" width=\"50%\"/>"
      ]
    },
    {
      "cell_type": "markdown",
      "metadata": {
        "id": "YoV7eGTsQ77D"
      },
      "source": [
        "**Two-Dimensional Array Slicing**\n",
        "\n",
        "<img src=\"https://learning.oreilly.com/api/v2/epubs/urn:orm:book:9781449323592/files/httpatomoreillycomsourceoreillyimages2172114.png\" height=\"50%\" width=\"50%\"/>"
      ]
    },
    {
      "cell_type": "markdown",
      "metadata": {
        "id": "BHynppxwQ77E"
      },
      "source": [
        "**3D arrays**"
      ]
    },
    {
      "cell_type": "markdown",
      "metadata": {
        "id": "D8Z0AO4oQ77E"
      },
      "source": [
        "We can add another dimension to the array, and generate what it is called a *Tensor*.\n",
        "\n",
        "https://en.wikipedia.org/wiki/Tensor_(machine_learning)\n",
        "\n",
        "This can be done by stacking 2 arrays one after the other, as we would do with books on a shelf.\n",
        "\n",
        "As an example we stack arr2d and the new arr2d2 (defined below) together."
      ]
    },
    {
      "cell_type": "code",
      "execution_count": null,
      "metadata": {
        "tags": [],
        "id": "T1ygYzGoQ77E"
      },
      "outputs": [],
      "source": [
        "print(arr2d)\n",
        "arr2d2 = np.array([[10,11,12],[13,14,15],[16,17,18]])\n",
        "print(arr2d2)"
      ]
    },
    {
      "cell_type": "code",
      "execution_count": null,
      "metadata": {
        "tags": [],
        "id": "UvNaeUhcQ77E"
      },
      "outputs": [],
      "source": [
        "arr3d = np.array([arr2d,arr2d2])\n",
        "arr3d"
      ]
    },
    {
      "cell_type": "markdown",
      "metadata": {
        "id": "1LJBnFQWQ77F"
      },
      "source": [
        "We may be tempted to use np.hstack(), but it won't do what we want. Let's check:"
      ]
    },
    {
      "cell_type": "code",
      "execution_count": null,
      "metadata": {
        "tags": [],
        "id": "RPSUhv65Q77F"
      },
      "outputs": [],
      "source": [
        "arr3d = np.hstack((arr2d,arr2d2))\n",
        "arr3d"
      ]
    },
    {
      "cell_type": "markdown",
      "metadata": {
        "id": "cfG2exSqQ77F"
      },
      "source": [
        "We can also declare the tensor by listing the 2 arrays:"
      ]
    },
    {
      "cell_type": "code",
      "execution_count": null,
      "metadata": {
        "editable": true,
        "jupyter": {
          "outputs_hidden": false
        },
        "tags": [],
        "id": "Kyjg_ZKDQ77F"
      },
      "outputs": [],
      "source": [
        "arr3d = np.array([[[1, 2, 3], [4, 5, 6]], [[7, 8, 9], [10, 11, 12]]])"
      ]
    },
    {
      "cell_type": "code",
      "execution_count": null,
      "metadata": {
        "tags": [],
        "id": "ETJp1uq0Q77G"
      },
      "outputs": [],
      "source": [
        "arr3d.shape"
      ]
    },
    {
      "cell_type": "code",
      "execution_count": null,
      "metadata": {
        "editable": true,
        "jupyter": {
          "outputs_hidden": false
        },
        "tags": [],
        "id": "eY-JNsf7Q77G"
      },
      "outputs": [],
      "source": [
        "arr3d"
      ]
    },
    {
      "cell_type": "markdown",
      "metadata": {
        "tags": [],
        "id": "yEW3l0ZWQ77G"
      },
      "source": [
        "\n",
        "💡 **Here is a way to visualize 3 and higher dimensional data:**\n",
        "\n",
        "```python\n",
        "[ # AXIS 0                     CONTAINS 2 ELEMENTS (arrays)\n",
        "    [ # AXIS 1                 CONTAINS 2 ELEMENTS (arrays)\n",
        "        [1, 2, 3], # AXIS 2    CONTAINS 3 ELEMENTS (integers)\n",
        "        [4, 5, 6]  # AXIS 2\n",
        "    ],  \n",
        "    [ # AXIS 1\n",
        "        [7, 8, 9],\n",
        "        [10, 11, 12]\n",
        "    ]\n",
        "]\n",
        "```\n",
        "Each axis is a level in the nested hierarchy, i.e. a tree or DAG (directed-acyclic graph).\n",
        "\n",
        "* Each axis is a container.\n",
        "* There is only one top container.\n",
        "* Only the bottom containers have data."
      ]
    },
    {
      "cell_type": "markdown",
      "metadata": {
        "id": "vMBidWJlQ77G"
      },
      "source": [
        "**Omit lower indices**\n",
        "\n",
        "In multidimensional arrays, if you omit later indices, the returned object will be a **lower-dimensional ndarray** consisting of all the data contained by the higher indexed dimension.\n",
        "\n",
        "So in the 2 × 2 × 3 array `arr3d`:"
      ]
    },
    {
      "cell_type": "code",
      "execution_count": null,
      "metadata": {
        "editable": true,
        "jupyter": {
          "outputs_hidden": false
        },
        "tags": [],
        "id": "8k5l-3joQ77H"
      },
      "outputs": [],
      "source": [
        "arr3d[0]"
      ]
    },
    {
      "cell_type": "markdown",
      "metadata": {
        "id": "aMfTg-eSQ77H"
      },
      "source": [
        "Saving data before modifying an array."
      ]
    },
    {
      "cell_type": "code",
      "execution_count": null,
      "metadata": {
        "editable": true,
        "jupyter": {
          "outputs_hidden": false
        },
        "tags": [],
        "id": "bE8_J2TGQ77H"
      },
      "outputs": [],
      "source": [
        "old_values = arr3d[0].copy()\n",
        "arr3d[0] = 42\n",
        "arr3d"
      ]
    },
    {
      "cell_type": "markdown",
      "metadata": {
        "id": "y2eAef0CQ77H"
      },
      "source": [
        "Putting the data back."
      ]
    },
    {
      "cell_type": "code",
      "execution_count": null,
      "metadata": {
        "editable": true,
        "jupyter": {
          "outputs_hidden": false
        },
        "tags": [],
        "id": "SWMbEllGQ77H"
      },
      "outputs": [],
      "source": [
        "arr3d[0] = old_values\n",
        "arr3d"
      ]
    },
    {
      "cell_type": "markdown",
      "metadata": {
        "id": "CZx7az9sQ77I"
      },
      "source": [
        "Similarly, `arr3d[1, 0]` gives you all of the values whose indices start with (1, 0), forming a 1-dimensional array:"
      ]
    },
    {
      "cell_type": "code",
      "execution_count": null,
      "metadata": {
        "editable": true,
        "jupyter": {
          "outputs_hidden": false
        },
        "tags": [],
        "id": "uxZu5-_-Q77I"
      },
      "outputs": [],
      "source": [
        "arr3d[1, 0]"
      ]
    },
    {
      "cell_type": "code",
      "execution_count": null,
      "metadata": {
        "editable": true,
        "jupyter": {
          "outputs_hidden": false
        },
        "tags": [],
        "id": "m7No4x2xQ77I"
      },
      "outputs": [],
      "source": [
        "x = arr3d[1]\n",
        "x"
      ]
    },
    {
      "cell_type": "code",
      "execution_count": null,
      "metadata": {
        "editable": true,
        "jupyter": {
          "outputs_hidden": false
        },
        "tags": [],
        "id": "2W18_jlmQ77I"
      },
      "outputs": [],
      "source": [
        "x[0]"
      ]
    },
    {
      "cell_type": "markdown",
      "metadata": {
        "id": "pP8A3Si0Q77J"
      },
      "source": [
        "## Student Exercises\n",
        "\n",
        "In the first lesson, you created a `sudoku_game` two-dimensional NumPy array. Perhaps you have hundreds of sudoku game arrays, and you'd like to save the solution for this one, `sudoku_solution`, as part of the same array as its corresponding game in order to organize your sudoku data better. You could accomplish this by stacking the two 2D arrays on top of each other to create a 3D array.\n",
        "\n"
      ]
    },
    {
      "cell_type": "code",
      "execution_count": null,
      "metadata": {
        "tags": [],
        "id": "WlvmaYSmQ77J"
      },
      "outputs": [],
      "source": [
        "# sudoku_game is Python list containing a sudoku game\n",
        "\n",
        "sudoku_game = [[0, 0, 4, 3, 0, 0, 2, 0, 9],\n",
        "               [0, 0, 5, 0, 0, 9, 0, 0, 1],\n",
        "               [0, 7, 0, 0, 6, 0, 0, 4, 3],\n",
        "               [0, 0, 6, 0, 0, 2, 0, 8, 7],\n",
        "               [1, 9, 0, 0, 0, 7, 4, 0, 0],\n",
        "               [0, 5, 0, 0, 8, 3, 0, 0, 0],\n",
        "               [6, 0, 0, 0, 0, 0, 1, 0, 5],\n",
        "               [0, 0, 3, 5, 0, 8, 6, 9, 0],\n",
        "               [0, 4, 2, 9, 1, 0, 3, 0, 0]]"
      ]
    },
    {
      "cell_type": "code",
      "execution_count": null,
      "metadata": {
        "tags": [],
        "id": "smJ4gY3ZQ77J"
      },
      "outputs": [],
      "source": [
        "sudoku_solution = [[8, 6, 4, 3, 7, 1, 2, 5, 9],\n",
        "                   [3, 2, 5, 8, 4, 9, 7, 6, 1],\n",
        "                   [9, 7, 1, 2, 6, 5, 8, 4, 3],\n",
        "                   [4, 3, 6, 1, 9, 2, 5, 8, 7],\n",
        "                   [1, 9, 8, 6, 5, 7, 4, 3, 2],\n",
        "                   [2, 5, 7, 4, 8, 3, 9, 1, 6],\n",
        "                   [6, 8, 9, 7, 3, 4, 1, 2, 5],\n",
        "                   [7, 1, 3, 5, 2, 8, 6, 9, 4],\n",
        "                   [5, 4, 2, 9, 1, 6, 3, 7, 8]]\n"
      ]
    },
    {
      "cell_type": "markdown",
      "metadata": {
        "id": "LxRNf5lhQ77J"
      },
      "source": [
        "* Create a 3D array called `game_and_solution` by stacking the two 2D arrays, created from `sudoku_game` and `sudoku_solution`, on top of one another; in the final array, `sudoku_game` should appear before `sudoku_solution`.  \n",
        "\n",
        "* Print game_and_solution."
      ]
    },
    {
      "cell_type": "code",
      "execution_count": null,
      "metadata": {
        "tags": [],
        "id": "LKT6nsfEQ77J"
      },
      "outputs": [],
      "source": [
        "# Create the game_and_solution 3D array\n",
        "\n",
        "\n",
        "# Print game_and_solution\n"
      ]
    },
    {
      "cell_type": "markdown",
      "metadata": {
        "id": "CbrBE0kTQ77K"
      },
      "source": [
        "* Create another 3D array called `new_game_and_solution` with a different 2D game and 2D solution pair: `new_sudoku_game` and `new_sudoku_solution`. `new_sudoku_game` should appear before `new_sudoku_solution`.   \n",
        "\n",
        "* Create a 4D array called `games_and_solutions` by making an array out of the two 3D arrays: `game_and_solution` and `new_game_and_solution`, in that order.  \n",
        "\n",
        "* Print the shape of `games_and_solutions`  "
      ]
    },
    {
      "cell_type": "code",
      "execution_count": null,
      "metadata": {
        "tags": [],
        "id": "TumSP5eHQ77K"
      },
      "outputs": [],
      "source": [
        "new_sudoku_game = [[0, 0, 4, 3, 0, 0, 0, 0, 0],\n",
        "                   [8, 9, 0, 2, 0, 0, 6, 7, 0],\n",
        "                   [7, 0, 0, 9, 0, 0, 0, 5, 0],\n",
        "                   [5, 0, 0, 0, 0, 8, 1, 4, 0],\n",
        "                   [0, 7, 0, 0, 3, 2, 0, 6, 0],\n",
        "                   [6, 0, 0, 0, 0, 1, 3, 0, 8],\n",
        "                   [0, 0, 1, 7, 5, 0, 9, 0, 0],\n",
        "                   [0, 0, 5, 0, 4, 0, 0, 1, 2],\n",
        "                   [9, 8, 0, 0, 0, 6, 0, 0, 5]]\n",
        "\n",
        "new_sudoku_solution = [[2, 5, 4, 3, 6, 7, 8, 9, 1],\n",
        "                       [8, 9, 3, 2, 1, 5, 6, 7, 4],\n",
        "                       [7, 1, 6, 9, 8, 4, 2, 5, 3],\n",
        "                       [5, 3, 2, 6, 9, 8, 1, 4, 7],\n",
        "                       [1, 7, 8, 4, 3, 2, 5, 6, 9],\n",
        "                       [6, 4, 9, 5, 7, 1, 3, 2, 8],\n",
        "                       [4, 2, 1, 7, 5, 3, 9, 8, 6],\n",
        "                       [3, 6, 5, 8, 4, 9, 7, 1, 2],\n",
        "                       [9, 8, 7, 1, 2, 6, 4, 3, 5]]"
      ]
    },
    {
      "cell_type": "code",
      "execution_count": null,
      "metadata": {
        "tags": [],
        "id": "0MyLgvLSQ77K"
      },
      "outputs": [],
      "source": [
        "# Create a second 3D array of another game and its solution\n",
        "\n",
        "# Create a 4D array of both game and solution 3D arrays\n",
        "\n",
        "# Print the shape of your 4D array\n"
      ]
    },
    {
      "cell_type": "markdown",
      "metadata": {
        "id": "5ISvjAJkQ77K"
      },
      "source": [
        "* Flatten `sudoku_game` so that it is a 1D array, and save it as `flattened_game`.  \n",
        "\n",
        "* Print the `.shape` of `flattened_game`.\n",
        "\n",
        "* Hint: look up the documentation on `.flatten`."
      ]
    },
    {
      "cell_type": "code",
      "execution_count": null,
      "metadata": {
        "tags": [],
        "id": "EA6B9CpuQ77L"
      },
      "outputs": [],
      "source": [
        "# Conver sudoku_game to array\n"
      ]
    },
    {
      "cell_type": "code",
      "execution_count": null,
      "metadata": {
        "tags": [],
        "id": "5xH5WJZcQ77L"
      },
      "outputs": [],
      "source": [
        "# Print flatten sudoku_game\n",
        "\n",
        "\n",
        "\n"
      ]
    },
    {
      "cell_type": "code",
      "execution_count": null,
      "metadata": {
        "tags": [],
        "id": "oCaArPnFQ77L"
      },
      "outputs": [],
      "source": [
        "# Print the shape of flattened_game\n"
      ]
    },
    {
      "cell_type": "markdown",
      "metadata": {
        "id": "xedRUi_aQ77L"
      },
      "source": [
        "* Reshape the `flattened_game` back to its original shape of nine rows and nine columns; save the new array as `reshaped_game`.  \n",
        "\n",
        "* Look up documenation on `.reshape`.\n",
        "\n",
        "* Does NumPy to keep the array elements in the same order after being flattened and reshaped?"
      ]
    },
    {
      "cell_type": "code",
      "execution_count": null,
      "metadata": {
        "tags": [],
        "id": "i4Nf9bfTQ77M"
      },
      "outputs": [],
      "source": [
        "# Reshape flattened_game back to a nine by nine array\n",
        "reshaped_game ="
      ]
    },
    {
      "cell_type": "code",
      "execution_count": null,
      "metadata": {
        "tags": [],
        "id": "ITy5HOenQ77M"
      },
      "outputs": [],
      "source": [
        "# Print sudoku_game and reshaped_game\n",
        "print(sudoku_game)\n",
        "print(\"-\" * 23)\n",
        "print(reshaped_game)"
      ]
    },
    {
      "cell_type": "markdown",
      "metadata": {
        "id": "PL3QAjSBQ77M"
      },
      "source": [
        "We can say that a multidimensional array is a 1D list of elements with a given set of dimension, in this example (9,9)."
      ]
    },
    {
      "cell_type": "code",
      "execution_count": null,
      "metadata": {
        "id": "hNCI2a4kQ77M"
      },
      "outputs": [],
      "source": []
    }
  ],
  "metadata": {
    "anaconda-cloud": {},
    "kernelspec": {
      "display_name": "Python 3 (ipykernel)",
      "language": "python",
      "name": "python3"
    },
    "language_info": {
      "codemirror_mode": {
        "name": "ipython",
        "version": 3
      },
      "file_extension": ".py",
      "mimetype": "text/x-python",
      "name": "python",
      "nbconvert_exporter": "python",
      "pygments_lexer": "ipython3",
      "version": "3.9.16"
    },
    "vscode": {
      "interpreter": {
        "hash": "31f2aee4e71d21fbe5cf8b01ff0e069b9275f58929596ceb00d14d90e3e16cd6"
      }
    },
    "colab": {
      "provenance": [],
      "include_colab_link": true
    }
  },
  "nbformat": 4,
  "nbformat_minor": 0
}