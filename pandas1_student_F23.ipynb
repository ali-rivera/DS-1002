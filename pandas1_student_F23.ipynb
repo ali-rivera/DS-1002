{
  "cells": [
    {
      "cell_type": "markdown",
      "metadata": {
        "id": "view-in-github",
        "colab_type": "text"
      },
      "source": [
        "<a href=\"https://colab.research.google.com/github/gg5d/DS-1002/blob/main/pandas1_student_F23.ipynb\" target=\"_parent\"><img src=\"https://colab.research.google.com/assets/colab-badge.svg\" alt=\"Open In Colab\"/></a>"
      ]
    },
    {
      "cell_type": "markdown",
      "metadata": {
        "id": "9gFnpit7CBFM"
      },
      "source": [
        "## Pandas DataFrames I\n",
        "\n",
        "\n",
        "### University of Virginia\n",
        "### Programming for Data Science\n",
        "### Last Updated: September 13, 2023\n",
        "---  \n",
        "\n",
        "### PREREQUISITES\n",
        "- variables\n",
        "- data types\n",
        "- operators\n",
        "- list comprehensions (not essential)\n",
        "- numpy arrays (not essential)\n",
        "\n",
        "\n",
        "### SOURCES\n",
        "- ten minutes to pandas  \n",
        "https://pandas.pydata.org/pandas-docs/stable/user_guide/10min.html\n",
        "\n",
        "\n",
        "- sort_values()  \n",
        "https://pandas.pydata.org/pandas-docs/stable/reference/api/pandas.DataFrame.sort_values.html\n",
        "\n",
        "\n",
        "- value_counts()  \n",
        "https://pandas.pydata.org/pandas-docs/stable/reference/api/pandas.Series.value_counts.html\n",
        "\n",
        "\n",
        "- to_csv() : saving to CSV file  \n",
        "https://pandas.pydata.org/pandas-docs/stable/reference/api/pandas.DataFrame.to_csv.html\n",
        "\n",
        "\n",
        "- read_csv() : load CSV file into DataFrame  \n",
        "https://pandas.pydata.org/pandas-docs/stable/reference/api/pandas.read_csv.html\n",
        "\n",
        "\n",
        "- dropna() : drop missing data  \n",
        "https://pandas.pydata.org/pandas-docs/stable/reference/api/pandas.DataFrame.dropna.html\n",
        "\n",
        "\n",
        "- fillna() : impute missing data  \n",
        "https://pandas.pydata.org/pandas-docs/stable/reference/api/pandas.DataFrame.fillna.html\n",
        "\n",
        "\n",
        "\n",
        "\n",
        "### OBJECTIVES\n",
        "- Introduce pandas dataframes and the essential operations"
      ]
    },
    {
      "cell_type": "markdown",
      "metadata": {
        "tags": [],
        "id": "IgLbS60SCBFO"
      },
      "source": [
        "# Pandas DataFrames\n",
        "\n",
        "The **Series**: a 1-dimensional labeled array capable of holding any data type."
      ]
    },
    {
      "cell_type": "markdown",
      "metadata": {
        "tags": [],
        "id": "o3_BZwf-CBFP"
      },
      "source": [
        "The **DataFrame**: a 2-dimensional labeled data structure with columns of potentially different types.\n",
        "\n",
        "> Note: Pandas used to have a 3-dimensional structure called a **panel**, but it has been removed from the library.\\\n",
        "Ironically, the name \"pandas\" was partly derived the word \"panel\": $pan(el)-da(ta)-s$.\\\n",
        "To handle higher dimensional data, the Pandas team suggests using [XArray](https://xarray.pydata.org/en/stable/), which also build on NumPy arrays.\n",
        "\n",
        "By far, the most important data structure in Pandas is the dataframe, with the series playing a supporting role.\n",
        "\n",
        "In fact, dataframe objects are built out of series objects.\n",
        "\n",
        "So, **to understand what a dataframe is and how it behaves, you need to understand what is series is and how it is constructed.**\n",
        "\n",
        "Before going into that, here are two quick observations about dataframes:\n",
        "\n",
        "First, dataframes are **inspired by the R structure** of the same name. They have many similarities, but there are fundamental differences between the two that go beyond mere language differences. Most important is the Pandas dataframes have **indexes**, whereas R dataframes do not.\n",
        "\n",
        "Second, it is helpful to think of Pandas as wrapper around NumPy and Matplotlib that makes it much easier to perform common operations, like select data by column name or visualizing plots. But this comes at a cost -- Pandas is slower than NumPy. The represents the classic trade-off between **ease-of-use** for humans and machine **performance**.\n",
        "\n",
        "For shorthand, `df` will refer to pandas DataFrames.  \n",
        "\n",
        "DataFrames can be created with pandas.    \n",
        "Various formats (`csv`,`json`,...) can be loaded into DataFrames.   \n",
        "\n",
        "The [ten minutes to pandas link](https://pandas.pydata.org/pandas-docs/stable/user_guide/10min.html) above gives a good, brief overview of pandas. Be sure to review.\n",
        "\n",
        "Import pandas like this, where the alias `pd` is convention:"
      ]
    },
    {
      "cell_type": "code",
      "execution_count": null,
      "metadata": {
        "tags": [],
        "id": "6_G8WQFzCBFP"
      },
      "outputs": [],
      "source": [
        "import numpy as np\n",
        "import pandas as pd"
      ]
    },
    {
      "cell_type": "markdown",
      "metadata": {
        "id": "v6vAJbe0CBFQ"
      },
      "source": [
        "## Series\n",
        "\n",
        "A **series** is a one-dimensional array-like object containing\n",
        "\n",
        "- a sequence of values (of similar types to NumPy types) of the **same type** and\n",
        "- an associated array of data labels, called its **index**\n",
        "\n",
        "A **series** is at heart a one-dimensional array with **labels** along its axis.\n",
        "\n",
        "Think of **the index as a separate data structure** that is attached to the array.\n",
        "* The array holds the data.\n",
        "* The index holds the names of the observations or things that the data are about.\n",
        "\n",
        "So, Pandas moves us out of what we called anonymous data.\n",
        "\n",
        "Why have an index?\n",
        "* Provides a way to access elements of the array by name\n",
        "* Allows series objects that share index labels to be combined"
      ]
    },
    {
      "cell_type": "code",
      "execution_count": null,
      "metadata": {
        "tags": [],
        "id": "6sjB8amPCBFR"
      },
      "outputs": [],
      "source": [
        "obj = pd.Series([4, 7, -5, 3])\n",
        "obj"
      ]
    },
    {
      "cell_type": "markdown",
      "metadata": {
        "id": "3tNEwx2vCBFR"
      },
      "source": [
        " You can get the array representation and index object of the Series via its *`array`* and *`index`* attributes, respectively:\n",
        "\n",
        "[An **attribute** is  a <ins>value</ins> associated with an object which is usually referenced by name using dotted expressions. For example, if an object o has an attribute a it would be referenced as o.a.]"
      ]
    },
    {
      "cell_type": "code",
      "execution_count": null,
      "metadata": {
        "tags": [],
        "id": "_Kh06KkzCBFS"
      },
      "outputs": [],
      "source": [
        "  # call .array"
      ]
    },
    {
      "cell_type": "markdown",
      "metadata": {
        "id": "l8hswrk1CBFS"
      },
      "source": [
        "The result of the .array attribute is a PandasArray which usually wraps a NumPy array but can also contain special extension array types which will be discussed more in Ch 7.3: Extension Data Types."
      ]
    },
    {
      "cell_type": "code",
      "execution_count": null,
      "metadata": {
        "tags": [],
        "id": "ubEcVg65CBFS"
      },
      "outputs": [],
      "source": [
        "  # call .index"
      ]
    },
    {
      "cell_type": "markdown",
      "metadata": {
        "id": "TVmfDPTcCBFT"
      },
      "source": [
        "Often, you'll want to create a Series with an index identifying each data point with a label:"
      ]
    },
    {
      "cell_type": "code",
      "execution_count": null,
      "metadata": {
        "tags": [],
        "id": "25C6hJYUCBFT"
      },
      "outputs": [],
      "source": [
        "obj2 = pd.Series([4, 7, -5, 3], index=[\"d\", \"b\", \"a\", \"c\"])\n",
        "obj2"
      ]
    },
    {
      "cell_type": "code",
      "execution_count": null,
      "metadata": {
        "tags": [],
        "id": "FF5xP3kjCBFT"
      },
      "outputs": [],
      "source": [
        "obj2.index"
      ]
    },
    {
      "cell_type": "markdown",
      "metadata": {
        "id": "8VO9pK_9CBFU"
      },
      "source": [
        "you can use labels in the index when selecting single values or a set of values:"
      ]
    },
    {
      "cell_type": "code",
      "execution_count": null,
      "metadata": {
        "tags": [],
        "id": "qJwD7OQgCBFU"
      },
      "outputs": [],
      "source": [
        "obj2[\"a\"]"
      ]
    },
    {
      "cell_type": "code",
      "execution_count": null,
      "metadata": {
        "tags": [],
        "id": "UdVKNXqHCBFV"
      },
      "outputs": [],
      "source": [
        "obj2[\"d\"] = 6\n",
        "obj2"
      ]
    },
    {
      "cell_type": "code",
      "execution_count": null,
      "metadata": {
        "tags": [],
        "id": "RdfjJ5BYCBFV"
      },
      "outputs": [],
      "source": [
        "obj2[[\"c\", \"a\", \"d\"]]"
      ]
    },
    {
      "cell_type": "markdown",
      "metadata": {
        "id": "KBcW4ZTuCBFW"
      },
      "source": [
        "You can use NumPy functions or NumPy-like operations"
      ]
    },
    {
      "cell_type": "code",
      "execution_count": null,
      "metadata": {
        "tags": [],
        "id": "VnQzVpEvCBFW"
      },
      "outputs": [],
      "source": [
        "obj2[obj2 > 0]"
      ]
    },
    {
      "cell_type": "code",
      "execution_count": null,
      "metadata": {
        "tags": [],
        "id": "vo5-LT3qCBFW"
      },
      "outputs": [],
      "source": [
        "obj2 * 2"
      ]
    },
    {
      "cell_type": "markdown",
      "metadata": {
        "id": "_JkBMaPnCBFX"
      },
      "source": [
        "Another way to think about a Series is as a fixed-length, **ordered dictionary**, as it is a mapping of index values to data values. It can be used in many contexts where you might use a dictionary:"
      ]
    },
    {
      "cell_type": "markdown",
      "metadata": {
        "id": "UhxaP5RDCBFX"
      },
      "source": [
        "Given a Python dictionary, you can create a Series from it by passing the dictionary:"
      ]
    },
    {
      "cell_type": "code",
      "execution_count": null,
      "metadata": {
        "tags": [],
        "id": "r3rMF70PCBFX"
      },
      "outputs": [],
      "source": [
        "sdata = {\"Ohio\": 35000, \"Texas\": 71000, \"Oregon\": 16000, \"Utah\": 5000}\n",
        "sdata"
      ]
    },
    {
      "cell_type": "code",
      "execution_count": null,
      "metadata": {
        "tags": [],
        "id": "E3CdKBm8CBFY"
      },
      "outputs": [],
      "source": [
        "type(sdata)"
      ]
    },
    {
      "cell_type": "code",
      "execution_count": null,
      "metadata": {
        "tags": [],
        "id": "c2Kyt36MCBFY"
      },
      "outputs": [],
      "source": [
        "obj3 = pd.Series(sdata)\n",
        "obj3"
      ]
    },
    {
      "cell_type": "markdown",
      "metadata": {
        "id": "tAuDTSeOCBFY"
      },
      "source": [
        "A Series can be converted back to a dictionary with its *`to_dict`* method:\n",
        "\n",
        "A *`method`* is a function which is defined inside a class body. If called as an attribute of an instance of that class, the method will get the instance object as its first argument (which is usually called self)."
      ]
    },
    {
      "cell_type": "code",
      "execution_count": null,
      "metadata": {
        "tags": [],
        "id": "P3-dPwyWCBFZ"
      },
      "outputs": [],
      "source": [
        "obj3.to_dict()"
      ]
    },
    {
      "cell_type": "markdown",
      "metadata": {
        "id": "1nmNkYhJCBFZ"
      },
      "source": [
        "You can override the order by passing an index with the dictionary keys in the order you want them to appear in the resulting Series:"
      ]
    },
    {
      "cell_type": "code",
      "execution_count": null,
      "metadata": {
        "tags": [],
        "id": "PJ3Mi3e6CBFZ"
      },
      "outputs": [],
      "source": [
        "states = [\"California\", \"Ohio\", \"Oregon\", \"Texas\"]\n",
        "obj4 = pd.Series(sdata, index=states)\n",
        "obj4"
      ]
    },
    {
      "cell_type": "markdown",
      "metadata": {
        "id": "3PVC3dXnCBFa"
      },
      "source": [
        "since no value for \"California\" was found, it appears as NaN (Not a Number), which is considered in pandas to mark missing or NA values.\n",
        "\n",
        "The **isna** and **notna** functions in pandas should be used to detect missing data:\n",
        "\n",
        "A *`function`* is a series of statements which returns some value to a caller. It can also be passed zero or more arguments which may be used in the execution of the body."
      ]
    },
    {
      "cell_type": "code",
      "execution_count": null,
      "metadata": {
        "tags": [],
        "id": "SliBDfmGCBFa"
      },
      "outputs": [],
      "source": [
        "pd.isna(obj4)"
      ]
    },
    {
      "cell_type": "code",
      "execution_count": null,
      "metadata": {
        "tags": [],
        "id": "_irIvbkKCBFa"
      },
      "outputs": [],
      "source": [
        "pd.notna(obj4)"
      ]
    },
    {
      "cell_type": "markdown",
      "metadata": {
        "tags": [],
        "id": "bi1JlrvpCBFb"
      },
      "source": [
        "Series also has these as instance methods:\n",
        "\n",
        "An *`instance`* is an individual object of a certain class]"
      ]
    },
    {
      "cell_type": "code",
      "execution_count": null,
      "metadata": {
        "tags": [],
        "id": "wrCwpYTbCBFb"
      },
      "outputs": [],
      "source": [
        "obj4.isna()"
      ]
    },
    {
      "cell_type": "markdown",
      "metadata": {
        "id": "lAuLcekuCBFb"
      },
      "source": [
        "A useful Series feature for many applications is that it **automatically aligns by index label** in arithmetic operations: **(this is cool!)**"
      ]
    },
    {
      "cell_type": "code",
      "execution_count": null,
      "metadata": {
        "id": "ZOMqOMLNCBFb"
      },
      "outputs": [],
      "source": [
        "obj3"
      ]
    },
    {
      "cell_type": "code",
      "execution_count": null,
      "metadata": {
        "id": "UYCJlSSBCBFb"
      },
      "outputs": [],
      "source": [
        "obj4"
      ]
    },
    {
      "cell_type": "code",
      "execution_count": null,
      "metadata": {
        "id": "2sKu3DIlCBFc"
      },
      "outputs": [],
      "source": [
        "obj3 + obj4"
      ]
    },
    {
      "cell_type": "markdown",
      "metadata": {
        "id": "YadjP7y5CBFc"
      },
      "source": [
        "Both the Series object itself and its index have a **name** attribute, which integrates with other areas of pandas functionality:"
      ]
    },
    {
      "cell_type": "code",
      "execution_count": null,
      "metadata": {
        "id": "JBOtcD4ICBFc"
      },
      "outputs": [],
      "source": [
        "obj4.name = \"population\"\n",
        "obj4.index.name = \"state\"\n",
        "obj4"
      ]
    },
    {
      "cell_type": "markdown",
      "metadata": {
        "id": "l27n-H5RCBFc"
      },
      "source": [
        "A Series’s index can be altered in place by assignment:"
      ]
    },
    {
      "cell_type": "code",
      "execution_count": null,
      "metadata": {
        "id": "Sj7xO7NHCBFd"
      },
      "outputs": [],
      "source": [
        "obj"
      ]
    },
    {
      "cell_type": "code",
      "execution_count": null,
      "metadata": {
        "id": "YRgLGABFCBFd"
      },
      "outputs": [],
      "source": [
        "obj.index = [\"Bob\", \"Steve\", \"Jeff\", \"Ryan\"]\n",
        "obj"
      ]
    },
    {
      "cell_type": "markdown",
      "metadata": {
        "id": "byZmgUCBCBFd"
      },
      "source": [
        "## Dataframe\n",
        "\n",
        "\n",
        "\n",
        "A **dataframe is a collection of series** with a common index.\n",
        "\n",
        "To this collection of series the dataframe adds a set of labels along the horizontal axis.\n",
        "* The index is **axis 0**\n",
        "* The columns are another kind of index, called **axis 1**\n",
        "\n",
        "Note that both index and column labels can be **multidimensional**.\n",
        "* The are called Hierarchical Indexes and go the technical name of `MultiIndexes`.\n",
        "* As an example, consider that a table of text data might have a two-column index: `(book_id, chap_id)`\n",
        "* See [the Pandas documentation](https://pandas.pydata.org/docs/user_guide/advanced.html).\n",
        "\n",
        "It is **crucial** to understand the difference between the index of a dataframe and its data in order to understand how dataframes work.\n",
        "\n",
        "Many a headache is caused by not understanding this difference :-)\n",
        "\n",
        "**Indexes are powerful and controversial.**\n",
        "* They allow for all kinds of magic to take place when combining and accessing data.\n",
        "* But they are expensive and sometimes hard to work with (especially multiindexes).\n",
        "* They are especially difficult if you are coming from R and expecting dataframes to behave a certain way."
      ]
    },
    {
      "cell_type": "markdown",
      "metadata": {
        "id": "YmsgphdKCBFd"
      },
      "source": [
        "## Some visuals to help"
      ]
    },
    {
      "cell_type": "markdown",
      "metadata": {
        "id": "ky70Ze2nCBFe"
      },
      "source": [
        "<img src=\"https://pynative.com/wp-content/uploads/2021/02/dataframe.png\" width=\"50%\" height=\"50%\"/>\n",
        "\n",
        "<img src=\"https://miro.medium.com/max/700/1*KOBhtOeFntu6CyJUsCdN0g.jpeg\" width=\"50%\" height=\"50%\"/>"
      ]
    },
    {
      "cell_type": "markdown",
      "metadata": {
        "tags": [],
        "id": "7547HWILCBFe"
      },
      "source": [
        "# DataFrames Constructors\n",
        "\n",
        "Several ways to create pandas dataframes\n",
        "\n",
        "**Passing a dictionary of objects:**"
      ]
    },
    {
      "cell_type": "code",
      "execution_count": null,
      "metadata": {
        "tags": [],
        "id": "lhnz-vCvCBFe"
      },
      "outputs": [],
      "source": [
        "# x, y, z, are lists in the dict\n",
        "\n",
        "df = pd.DataFrame({\n",
        "    'x': [0, 2, 1, 5],\n",
        "    'y': [1, 1, 0, 0],\n",
        "    'z': [True, False, False, False]\n",
        "})"
      ]
    },
    {
      "cell_type": "markdown",
      "metadata": {
        "id": "1uwZIdYRCBFe"
      },
      "source": [
        "**`.index`**  \n",
        "https://pandas.pydata.org/docs/reference/api/pandas.Index.html"
      ]
    },
    {
      "cell_type": "code",
      "execution_count": null,
      "metadata": {
        "id": "MV1JMhPOCBFe"
      },
      "outputs": [],
      "source": [
        "df.index"
      ]
    },
    {
      "cell_type": "code",
      "execution_count": null,
      "metadata": {
        "id": "sxDUJH5SCBFf"
      },
      "outputs": [],
      "source": [
        "type(df.index)"
      ]
    },
    {
      "cell_type": "markdown",
      "metadata": {
        "id": "WY6Xv5CKCBFf"
      },
      "source": [
        "**`list()`**  \n",
        "casts object to list  \n",
        "here will give you the df index as a list"
      ]
    },
    {
      "cell_type": "code",
      "execution_count": null,
      "metadata": {
        "id": "AucVphr5CBFf"
      },
      "outputs": [],
      "source": [
        "                   # call list() on the index of df"
      ]
    },
    {
      "cell_type": "markdown",
      "metadata": {
        "id": "RW2xuv3uCBFf"
      },
      "source": [
        "**`.columns`**  \n",
        "gives you the column labels"
      ]
    },
    {
      "cell_type": "code",
      "execution_count": null,
      "metadata": {
        "id": "7F1T7VcGCBFf"
      },
      "outputs": [],
      "source": [
        "                    # call .columns to get the column labels"
      ]
    },
    {
      "cell_type": "markdown",
      "metadata": {
        "id": "vTipISTlCBFg"
      },
      "source": [
        "**`object`** = text data type in pandas\n",
        "\n",
        "https://pandas.pydata.org/pandas-docs/stable/user_guide/text.html#text-types"
      ]
    },
    {
      "cell_type": "code",
      "execution_count": null,
      "metadata": {
        "id": "88LR2O2mCBFg"
      },
      "outputs": [],
      "source": [
        "# can also cast as a list\n",
        "                                # call list() on the column labels of df"
      ]
    },
    {
      "cell_type": "markdown",
      "metadata": {
        "id": "s5E-iwgnCBFg"
      },
      "source": [
        "**`.values`**  \n",
        "gives a Numpy representation of the dataframe (more on numpy later)  \n",
        "can also use `.to_numpy()`"
      ]
    },
    {
      "cell_type": "code",
      "execution_count": null,
      "metadata": {
        "id": "xUYRp2kFCBFg"
      },
      "outputs": [],
      "source": [
        "                    # call .values on the DataFrame to get the values"
      ]
    },
    {
      "cell_type": "code",
      "execution_count": null,
      "metadata": {
        "id": "0ORiAo0-CBFh"
      },
      "outputs": [],
      "source": [
        "                      # check the data type"
      ]
    },
    {
      "cell_type": "markdown",
      "metadata": {
        "id": "DQOzbt1fCBFh"
      },
      "source": [
        "**Passing the three required pieces:**\n",
        "- columns as list\n",
        "- index as list\n",
        "- data as list of lists"
      ]
    },
    {
      "cell_type": "code",
      "execution_count": null,
      "metadata": {
        "tags": [],
        "id": "7AOFIfmACBFh"
      },
      "outputs": [],
      "source": [
        "df2 = pd.DataFrame(\n",
        "    columns=['x','y'],\n",
        "    index=['row1','row2','row3'],\n",
        "    data=[[9,3],[1,2],[4,6]])"
      ]
    },
    {
      "cell_type": "code",
      "execution_count": null,
      "metadata": {
        "tags": [],
        "id": "c_sU4UFACBFh"
      },
      "outputs": [],
      "source": [
        "df2"
      ]
    },
    {
      "cell_type": "markdown",
      "metadata": {
        "id": "NENomWw1CBFi"
      },
      "source": [
        "**Passing a nested list (or list-like):**\n",
        "\n",
        "index not provided"
      ]
    },
    {
      "cell_type": "code",
      "execution_count": null,
      "metadata": {
        "tags": [],
        "id": "JQm6ZbSuCBFi"
      },
      "outputs": [],
      "source": [
        "my_data = [\n",
        "    ('a', 1, True),\n",
        "    ('b', 2, False)\n",
        "]\n",
        "df3 = pd.DataFrame(my_data, columns=['f1', 'f2', 'f3'])"
      ]
    },
    {
      "cell_type": "code",
      "execution_count": null,
      "metadata": {
        "tags": [],
        "id": "xU2ILJ76CBFi"
      },
      "outputs": [],
      "source": [
        "df3"
      ]
    },
    {
      "cell_type": "markdown",
      "metadata": {
        "tags": [],
        "id": "28wPKRp8CBFi"
      },
      "source": [
        "# Naming indexes"
      ]
    },
    {
      "cell_type": "code",
      "execution_count": null,
      "metadata": {
        "tags": [],
        "id": "nzSHW_GhCBFj"
      },
      "outputs": [],
      "source": [
        "df3.index.name = 'obs_id'"
      ]
    },
    {
      "cell_type": "code",
      "execution_count": null,
      "metadata": {
        "tags": [],
        "id": "ceFpnN3XCBFj"
      },
      "outputs": [],
      "source": [
        "df3"
      ]
    },
    {
      "cell_type": "markdown",
      "metadata": {
        "tags": [],
        "id": "gJ_0b8-JCBFj"
      },
      "source": [
        "# Copying DataFrames with `copy()`"
      ]
    },
    {
      "cell_type": "markdown",
      "metadata": {
        "id": "HMtUlolnCBFj"
      },
      "source": [
        "Use `copy()` to give the new df a clean break from the original.  \n",
        "\n",
        "Otherwise, the copied df will point to the same object as the original."
      ]
    },
    {
      "cell_type": "code",
      "execution_count": null,
      "metadata": {
        "tags": [],
        "id": "yC6lReUNCBFj"
      },
      "outputs": [],
      "source": [
        "df = pd.DataFrame({'x':[0,2,1,5], 'y':[1,1,0,0], 'z':[True,False,False,False]})"
      ]
    },
    {
      "cell_type": "code",
      "execution_count": null,
      "metadata": {
        "tags": [],
        "id": "lzQLurWtCBFk"
      },
      "outputs": [],
      "source": [
        "df_deep    = df.copy()  # deep copy; changes to df will not pass through\n",
        "df_shallow = df         # shallow copy; changes to df will pass through"
      ]
    },
    {
      "cell_type": "code",
      "execution_count": null,
      "metadata": {
        "tags": [],
        "id": "l7GA4kVsCBFk"
      },
      "outputs": [],
      "source": [
        "print('--df')\n",
        "df"
      ]
    },
    {
      "cell_type": "code",
      "execution_count": null,
      "metadata": {
        "tags": [],
        "id": "Klhm3to-CBFk"
      },
      "outputs": [],
      "source": [
        "# update values in df.x\n",
        "df.x = 1"
      ]
    },
    {
      "cell_type": "code",
      "execution_count": null,
      "metadata": {
        "tags": [],
        "id": "ZQmgTygnCBFk"
      },
      "outputs": [],
      "source": [
        "print('--Updated df')\n",
        "df"
      ]
    },
    {
      "cell_type": "code",
      "execution_count": null,
      "metadata": {
        "tags": [],
        "id": "pBkQanlFCBFl"
      },
      "outputs": [],
      "source": [
        "print('--df_shallow')\n",
        "print(df_shallow)\n",
        "print('--df_deep')\n",
        "print(df_deep)"
      ]
    },
    {
      "cell_type": "code",
      "execution_count": null,
      "metadata": {
        "tags": [],
        "id": "Pvo_XkzqCBFl"
      },
      "outputs": [],
      "source": [
        "# rebuild df\n",
        "df = pd.DataFrame({'x':[0,2,1,5], 'y':[1,1,0,0], 'z':[True,False,False,False]})\n",
        "df"
      ]
    },
    {
      "cell_type": "markdown",
      "metadata": {
        "id": "zTJpXsNcCBFl"
      },
      "source": [
        "Notice `df_shallow` mirrors changes to `df`, since it references its indices and data.  \n",
        "`df_deep` does not reference `df`, and so changes to `df` do not impact `df_deep`."
      ]
    },
    {
      "cell_type": "markdown",
      "metadata": {
        "id": "R_4v3RqGCBFl"
      },
      "source": [
        "# Column Data Types"
      ]
    },
    {
      "cell_type": "markdown",
      "metadata": {
        "id": "XhtpIpfvCBFm"
      },
      "source": [
        "**With `.types`**"
      ]
    },
    {
      "cell_type": "code",
      "execution_count": null,
      "metadata": {
        "tags": [],
        "id": "4VZY0-xMCBFm"
      },
      "outputs": [],
      "source": [
        "df.dtypes"
      ]
    },
    {
      "cell_type": "markdown",
      "metadata": {
        "id": "vqZti3L1CBFm"
      },
      "source": [
        "**With `.info()`**"
      ]
    },
    {
      "cell_type": "code",
      "execution_count": null,
      "metadata": {
        "tags": [],
        "id": "1G-65IYYCBFm"
      },
      "outputs": [],
      "source": [
        "df.info()"
      ]
    },
    {
      "cell_type": "markdown",
      "metadata": {
        "tags": [],
        "id": "AopOv15jCBFm"
      },
      "source": [
        "**Column Renaming with `.rename()`**\n",
        "\n",
        "Can rename one or more fields at once using a dict.  \n",
        "\n",
        "Rename the field `z` to `is_label`:"
      ]
    },
    {
      "cell_type": "code",
      "execution_count": null,
      "metadata": {
        "tags": [],
        "id": "_zat_xA2CBFn"
      },
      "outputs": [],
      "source": [
        "df = df.rename(columns={'z': 'is_label'})"
      ]
    },
    {
      "cell_type": "code",
      "execution_count": null,
      "metadata": {
        "tags": [],
        "id": "L2FuHOXYCBFn"
      },
      "outputs": [],
      "source": [
        "df"
      ]
    },
    {
      "cell_type": "markdown",
      "metadata": {
        "id": "ETiAFsCsCBFn"
      },
      "source": [
        "# Column Referencing\n",
        "\n",
        "Use bracket notation or dot notation.  \n",
        "- bracket notation: variable name must be a string"
      ]
    },
    {
      "cell_type": "markdown",
      "metadata": {
        "id": "1i1qTPFGCBFn"
      },
      "source": [
        "**Bracket**"
      ]
    },
    {
      "cell_type": "code",
      "execution_count": null,
      "metadata": {
        "tags": [],
        "id": "3cgEoFE_CBFn"
      },
      "outputs": [],
      "source": [
        "df['y']"
      ]
    },
    {
      "cell_type": "markdown",
      "metadata": {
        "id": "GYHCmJNtCBFn"
      },
      "source": [
        "**Dot** (i.e. as object attribute)"
      ]
    },
    {
      "cell_type": "code",
      "execution_count": null,
      "metadata": {
        "tags": [],
        "id": "AIAqrpUPCBFo"
      },
      "outputs": [],
      "source": [
        "df.y"
      ]
    },
    {
      "cell_type": "markdown",
      "metadata": {
        "id": "NQd7-jQ2CBFo"
      },
      "source": [
        "Dot notation is very convenient, since as object attributes they can be tab-completed in various editing environments.\n",
        "\n",
        "But:\n",
        "- It only works if the column names are not reserved words\n",
        "- It can't be used when created a new column (see below)"
      ]
    },
    {
      "cell_type": "markdown",
      "metadata": {
        "id": "lF9CJ3OQCBFo"
      },
      "source": [
        "Column attributes and methods work with both:\n",
        " - example: `.values`"
      ]
    },
    {
      "cell_type": "code",
      "execution_count": null,
      "metadata": {
        "tags": [],
        "id": "NRI8G9vfCBFo"
      },
      "outputs": [],
      "source": [
        "df.y.values, df['y'].values"
      ]
    },
    {
      "cell_type": "markdown",
      "metadata": {
        "id": "iZWzpDeoCBFo"
      },
      "source": [
        "show only the first value, by indexing:"
      ]
    },
    {
      "cell_type": "code",
      "execution_count": null,
      "metadata": {
        "tags": [],
        "id": "6D6IUMPICBFo"
      },
      "outputs": [],
      "source": [
        "df.y.values[0]"
      ]
    },
    {
      "cell_type": "markdown",
      "metadata": {
        "id": "83QiWrMHCBFp"
      },
      "source": [
        "# Column Selection\n",
        "\n",
        "You select columns from a dataframe by passing a value or list (or any expression that evaluates to a list)."
      ]
    },
    {
      "cell_type": "code",
      "execution_count": null,
      "metadata": {
        "tags": [],
        "id": "qA2bXPs2CBFp"
      },
      "outputs": [],
      "source": [
        "# single bracket\n",
        "df['x']  # this is a Series"
      ]
    },
    {
      "cell_type": "code",
      "execution_count": null,
      "metadata": {
        "tags": [],
        "id": "EZl6K7jOCBFp"
      },
      "outputs": [],
      "source": [
        "# double bracket\n",
        "df[['x']]  # this is a DataFrame"
      ]
    },
    {
      "cell_type": "code",
      "execution_count": null,
      "metadata": {
        "tags": [],
        "id": "T9sJavURCBFp"
      },
      "outputs": [],
      "source": [
        "df[['y', 'x']]"
      ]
    },
    {
      "cell_type": "markdown",
      "metadata": {
        "id": "ks7SCH7MCBFp"
      },
      "source": [
        "### TRY FOR YOURSELF (UNGRADED EXERCISES)\n",
        "\n",
        "1) Create a dataframe called `dat` by passing a dictionary of inputs. Here are the requirements:\n",
        "- has a column named `features` containing at least four floats numbers\n",
        "- has a column named `labels` containing integers 0, 1, 2  \n",
        "\n",
        "Print the df."
      ]
    },
    {
      "cell_type": "code",
      "execution_count": null,
      "metadata": {
        "tags": [],
        "id": "TzfBz21dCBFp"
      },
      "outputs": [],
      "source": [
        "dat =\n",
        "dat"
      ]
    },
    {
      "cell_type": "markdown",
      "metadata": {
        "id": "NBl5TX44CBFq"
      },
      "source": [
        "2) Rename the `labels` column in `dat` to `label`.  \n",
        "[Documentation](https://pandas.pydata.org/docs/reference/api/pandas.DataFrame.rename.html)"
      ]
    },
    {
      "cell_type": "code",
      "execution_count": null,
      "metadata": {
        "id": "2acEuHW6CBFq"
      },
      "outputs": [],
      "source": [
        "dat =\n",
        "dat"
      ]
    },
    {
      "cell_type": "markdown",
      "metadata": {
        "id": "17q5DvweCBFq"
      },
      "source": [
        "# Adding New Columns\n",
        "\n",
        "It is typical to create a new column from existing columns.  \n",
        "\n",
        "In this example, a new column (or field) is created by summing `x` and `y`:"
      ]
    },
    {
      "cell_type": "code",
      "execution_count": null,
      "metadata": {
        "id": "Cod38DmoCBFq"
      },
      "outputs": [],
      "source": [
        "df['x_plus_y'] = df.x + df.y"
      ]
    },
    {
      "cell_type": "code",
      "execution_count": null,
      "metadata": {
        "id": "4qGs2ZJ3CBFq"
      },
      "outputs": [],
      "source": [
        "df"
      ]
    },
    {
      "cell_type": "markdown",
      "metadata": {
        "id": "UW1dLXGsCBFq"
      },
      "source": [
        "Notice the components:\n",
        "\n",
        "- the left side has form: DataFrame name, bracket notation, new column name\n",
        "- the assignment operator `=` is used\n",
        "- the right side contains an expression; here, two df columns are summed"
      ]
    },
    {
      "cell_type": "markdown",
      "metadata": {
        "id": "9h7-uIZCCBFr"
      },
      "source": [
        "Bracket notation also works on the fields, but it's more typing:"
      ]
    },
    {
      "cell_type": "code",
      "execution_count": null,
      "metadata": {
        "id": "Blu3v1MgCBFr"
      },
      "outputs": [],
      "source": [
        "df['x_plus_y'] = df['x'] + df['y']\n",
        "df"
      ]
    },
    {
      "cell_type": "markdown",
      "metadata": {
        "id": "k_I90biwCBFr"
      },
      "source": [
        "The bracket notation must be used when assigning to a new column. This will break:"
      ]
    },
    {
      "cell_type": "code",
      "execution_count": null,
      "metadata": {
        "id": "LLxfCq0sCBFr"
      },
      "outputs": [],
      "source": [
        "df.'x_plus_y' = df.x + df.y"
      ]
    },
    {
      "cell_type": "markdown",
      "metadata": {
        "tags": [],
        "id": "v4UY3kzRCBFr"
      },
      "source": [
        "# Removing Columns with `del` and `.drop()`"
      ]
    },
    {
      "cell_type": "markdown",
      "metadata": {
        "tags": [],
        "id": "pXUZhuiXCBFr"
      },
      "source": [
        "## `del`\n",
        "\n",
        "`del` can drop a DataFrame or single columns from the frame"
      ]
    },
    {
      "cell_type": "code",
      "execution_count": null,
      "metadata": {
        "id": "r5l5CrSWCBFr"
      },
      "outputs": [],
      "source": [
        "df_drop = df.copy()"
      ]
    },
    {
      "cell_type": "code",
      "execution_count": null,
      "metadata": {
        "id": "VG_DhMkRCBFs"
      },
      "outputs": [],
      "source": [
        "df_drop"
      ]
    },
    {
      "cell_type": "code",
      "execution_count": null,
      "metadata": {
        "id": "elUTyAMdCBFs"
      },
      "outputs": [],
      "source": [
        "# delete the column 'x'\n",
        "del df_drop['x']"
      ]
    },
    {
      "cell_type": "code",
      "execution_count": null,
      "metadata": {
        "id": "-M3bJbc_CBFs"
      },
      "outputs": [],
      "source": [
        "df_drop"
      ]
    },
    {
      "cell_type": "markdown",
      "metadata": {
        "id": "t2tan2cJCBFs"
      },
      "source": [
        "## `.drop()`"
      ]
    },
    {
      "cell_type": "markdown",
      "metadata": {
        "id": "F65xEoMcCBFs"
      },
      "source": [
        "Can drop one or more columns/rows.\n",
        "\n",
        "takes `axis` parameter:\n",
        "- axis=0 refers to rows  \n",
        "- axis=1 refers to columns  "
      ]
    },
    {
      "cell_type": "code",
      "execution_count": null,
      "metadata": {
        "id": "bGjqkoQ5CBFs"
      },
      "outputs": [],
      "source": [
        "df_drop =                                      # drop x_plus_y and is_label columns\n",
        "\n",
        "df_drop"
      ]
    },
    {
      "cell_type": "code",
      "execution_count": null,
      "metadata": {
        "id": "DKgDMqqqCBFt"
      },
      "outputs": [],
      "source": [
        "df"
      ]
    },
    {
      "cell_type": "code",
      "execution_count": null,
      "metadata": {
        "id": "o7t6MpIICBFt"
      },
      "outputs": [],
      "source": [
        "df_dropp =    # drop   first and third  rows\n",
        "df_dropp"
      ]
    }
  ],
  "metadata": {
    "anaconda-cloud": {},
    "kernelspec": {
      "display_name": "Python 3 (ipykernel)",
      "language": "python",
      "name": "python3"
    },
    "language_info": {
      "codemirror_mode": {
        "name": "ipython",
        "version": 3
      },
      "file_extension": ".py",
      "mimetype": "text/x-python",
      "name": "python",
      "nbconvert_exporter": "python",
      "pygments_lexer": "ipython3",
      "version": "3.9.16"
    },
    "vscode": {
      "interpreter": {
        "hash": "31f2aee4e71d21fbe5cf8b01ff0e069b9275f58929596ceb00d14d90e3e16cd6"
      }
    },
    "colab": {
      "provenance": [],
      "include_colab_link": true
    }
  },
  "nbformat": 4,
  "nbformat_minor": 0
}