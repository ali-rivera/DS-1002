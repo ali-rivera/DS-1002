{
  "cells": [
    {
      "cell_type": "markdown",
      "metadata": {
        "id": "view-in-github",
        "colab_type": "text"
      },
      "source": [
        "<a href=\"https://colab.research.google.com/github/gg5d/DS-1002/blob/main/python_basics.ipynb\" target=\"_parent\"><img src=\"https://colab.research.google.com/assets/colab-badge.svg\" alt=\"Open In Colab\"/></a>"
      ]
    },
    {
      "cell_type": "markdown",
      "id": "7f2a553a",
      "metadata": {
        "id": "7f2a553a"
      },
      "source": [
        "# Metadata\n",
        "\n",
        "```\n",
        "Course:      DS 1002\n",
        "Week:        Python Basics\n",
        "Topic:       Python Types, Operators, Expressions, Math Library, Formatting, and if/then\n",
        "```"
      ]
    },
    {
      "cell_type": "markdown",
      "id": "420867eb",
      "metadata": {
        "id": "420867eb"
      },
      "source": [
        "# Data Types"
      ]
    },
    {
      "cell_type": "markdown",
      "id": "19101330",
      "metadata": {
        "id": "19101330"
      },
      "source": [
        "**Integers**"
      ]
    },
    {
      "cell_type": "code",
      "execution_count": null,
      "id": "d4bb46d9",
      "metadata": {
        "id": "d4bb46d9"
      },
      "outputs": [],
      "source": [
        "# the number 42 is an integer\n",
        "# (a # 'comments out' your code - i.e. not read by the interpreter)\n",
        "\n",
        "42"
      ]
    },
    {
      "cell_type": "markdown",
      "id": "31315126",
      "metadata": {
        "id": "31315126"
      },
      "source": [
        "`type()`: # can use the type() function to check the data type"
      ]
    },
    {
      "cell_type": "code",
      "execution_count": null,
      "id": "871bad4d",
      "metadata": {
        "id": "871bad4d"
      },
      "outputs": [],
      "source": [
        "type(43)"
      ]
    },
    {
      "cell_type": "markdown",
      "id": "6da7af9c",
      "metadata": {
        "id": "6da7af9c"
      },
      "source": [
        "**Floats (decimals)**"
      ]
    },
    {
      "cell_type": "code",
      "execution_count": null,
      "id": "a878eab3",
      "metadata": {
        "id": "a878eab3"
      },
      "outputs": [],
      "source": [
        "3.14"
      ]
    },
    {
      "cell_type": "code",
      "execution_count": null,
      "id": "431a66a5",
      "metadata": {
        "id": "431a66a5"
      },
      "outputs": [],
      "source": [
        "type(3.14)"
      ]
    },
    {
      "cell_type": "markdown",
      "id": "f148727a",
      "metadata": {
        "id": "f148727a"
      },
      "source": [
        "**Strings**\n",
        "\n",
        "No specific character type as in other programming languages\n",
        "\n",
        "Remember to use quotations"
      ]
    },
    {
      "cell_type": "code",
      "execution_count": null,
      "id": "0cb6b853",
      "metadata": {
        "id": "0cb6b853"
      },
      "outputs": [],
      "source": [
        "'wahoo'"
      ]
    },
    {
      "cell_type": "code",
      "execution_count": null,
      "id": "ef3589b0",
      "metadata": {
        "id": "ef3589b0"
      },
      "outputs": [],
      "source": [
        "\"wahoo\""
      ]
    },
    {
      "cell_type": "code",
      "execution_count": null,
      "id": "ddae5090",
      "metadata": {
        "id": "ddae5090"
      },
      "outputs": [],
      "source": [
        "type('wahoo')"
      ]
    },
    {
      "cell_type": "markdown",
      "id": "0bd2b5a7",
      "metadata": {
        "id": "0bd2b5a7"
      },
      "source": [
        "**Boolean**"
      ]
    },
    {
      "cell_type": "code",
      "execution_count": null,
      "id": "c2435321",
      "metadata": {
        "id": "c2435321"
      },
      "outputs": [],
      "source": [
        "True"
      ]
    },
    {
      "cell_type": "code",
      "execution_count": null,
      "id": "0733f33b",
      "metadata": {
        "id": "0733f33b"
      },
      "outputs": [],
      "source": [
        "False"
      ]
    },
    {
      "cell_type": "code",
      "execution_count": null,
      "id": "2249a1d7",
      "metadata": {
        "id": "2249a1d7"
      },
      "outputs": [],
      "source": [
        "type(True)"
      ]
    },
    {
      "cell_type": "markdown",
      "id": "5c1c4907",
      "metadata": {
        "id": "5c1c4907"
      },
      "source": [
        "`True` and `False` are reserved keywords in Python (as of Python 3.8 there were 35)\n",
        "\n",
        "Reserved keywords have specific meanings and restrictions on how they should be used.\n",
        "\n",
        "More examples:\n",
        "\n",
        "`False`   \n",
        "`await`\n",
        "`else`\n",
        "`import`   \n",
        "`pass`  \n",
        "`None`   \n",
        "`break`   \n",
        "`except`   \n",
        "`in`   \n",
        "`raise`   \n",
        "`True`   \n",
        "`class`   \n",
        "`finally`   \n",
        "`is`\n",
        "`return`   \n",
        "`and`   \n",
        "`continue`   \n",
        "`for`   \n",
        "`lambda`   \n",
        "`try`   \n",
        "`as`   \n",
        "`def`   \n",
        "`from`   \n",
        "`nonlocal`   \n",
        "`while`   \n",
        "`assert`   \n",
        "`del`   \n",
        "`global`\n",
        "`not`   \n",
        "`with`   \n",
        "`async`   \n",
        "`elif`\t  \n",
        "`if`   \n",
        "`or`   \n",
        "`yield`"
      ]
    },
    {
      "cell_type": "markdown",
      "id": "2f7ae123",
      "metadata": {
        "id": "2f7ae123"
      },
      "source": [
        "# Variables"
      ]
    },
    {
      "cell_type": "markdown",
      "id": "92a9caa8",
      "metadata": {
        "id": "92a9caa8"
      },
      "source": [
        "Data are assigned to **variables** using the assignment **operator** `=`.\n",
        "\n",
        "The variable is always on the **left**, the value assigned to it on the **right**.\n",
        "\n",
        "This is not the same as mathemtical equality.\n",
        "\n",
        "Variables are assigned types **dynamically**.\n",
        "\n",
        "Python figures out what type of data is being set to the variable and implicitly stores that info."
      ]
    },
    {
      "cell_type": "code",
      "execution_count": null,
      "id": "fe148025",
      "metadata": {
        "id": "fe148025"
      },
      "outputs": [],
      "source": [
        "# variable name = assigned value\n",
        "\n",
        "x = 4\n",
        "x"
      ]
    },
    {
      "cell_type": "code",
      "execution_count": null,
      "id": "62a4d6d9",
      "metadata": {
        "id": "62a4d6d9"
      },
      "outputs": [],
      "source": [
        "y = 100 + 25\n",
        "y"
      ]
    },
    {
      "cell_type": "code",
      "execution_count": null,
      "id": "ec0ca490",
      "metadata": {
        "id": "ec0ca490"
      },
      "outputs": [],
      "source": [
        "# can type variable to get value\n",
        "x"
      ]
    },
    {
      "cell_type": "code",
      "execution_count": null,
      "id": "bfb5dda2",
      "metadata": {
        "id": "bfb5dda2"
      },
      "outputs": [],
      "source": [
        "# can use print() function to view assigned value\n",
        "# the print() function has a lot of uses and will be discussed later\n",
        "\n",
        "print(x)"
      ]
    },
    {
      "cell_type": "code",
      "execution_count": null,
      "id": "256e6b1c",
      "metadata": {
        "id": "256e6b1c"
      },
      "outputs": [],
      "source": [
        "# reassign variable\n",
        "x = 5\n",
        "\n",
        "x"
      ]
    },
    {
      "cell_type": "code",
      "execution_count": null,
      "id": "358db343",
      "metadata": {
        "id": "358db343"
      },
      "outputs": [],
      "source": [
        "# variable arithmetic\n",
        "\n",
        "x + y"
      ]
    },
    {
      "cell_type": "code",
      "execution_count": null,
      "id": "2f439542",
      "metadata": {
        "id": "2f439542"
      },
      "outputs": [],
      "source": [
        "# variables of other data types\n",
        "\n",
        "float_var = 4.22\n",
        "string_var = 'virginia'\n",
        "bool_var = True"
      ]
    },
    {
      "cell_type": "code",
      "execution_count": null,
      "id": "c7450065",
      "metadata": {
        "id": "c7450065"
      },
      "outputs": [],
      "source": [
        "type(float_var) # gives you type of data variable is holding"
      ]
    },
    {
      "cell_type": "code",
      "execution_count": null,
      "id": "2a29aba5",
      "metadata": {
        "id": "2a29aba5"
      },
      "outputs": [],
      "source": [
        "# delete a variable with function del()\n",
        "x\n",
        "del(x)\n",
        "\n"
      ]
    },
    {
      "cell_type": "code",
      "execution_count": null,
      "id": "Sy8XNQfxVynk",
      "metadata": {
        "id": "Sy8XNQfxVynk"
      },
      "outputs": [],
      "source": [
        "x"
      ]
    },
    {
      "cell_type": "markdown",
      "id": "19014be8",
      "metadata": {
        "id": "19014be8"
      },
      "source": [
        "## Variable Names\n",
        "\n",
        "A variable can have a short name (like x and y) or a more descriptive name (age, subject_id, total_volume).\n",
        "\n",
        "Rules for Python variables:\n",
        "\n",
        "* A variable name must start with a letter or the underscore character\n",
        "* A variable name cannot start with a number\n",
        "* A variable name can only contain alpha-numeric characters and underscores (A-z, 0-9, and _ )\n",
        "* Variable names are case-sensitive (age, Age and AGE are three different variables)\n"
      ]
    },
    {
      "cell_type": "markdown",
      "id": "df67456e",
      "metadata": {
        "id": "df67456e"
      },
      "source": [
        "## Object ID\n",
        "\n",
        "Every variable created in Python is given a unique ID.\n",
        "\n",
        "This ID where the variable is stored in memory. The ID is for the variable, not the variable's value.\n",
        "\n",
        "> Exception: if the number is between -5 - 256 or a simple string with no spaces, it will not be given a unique id for memory optimization purposes\n",
        "\n",
        "We can find an object's ID using `id()`"
      ]
    },
    {
      "cell_type": "code",
      "execution_count": null,
      "id": "a2e0fa0b",
      "metadata": {
        "id": "a2e0fa0b"
      },
      "outputs": [],
      "source": [
        "a = 278"
      ]
    },
    {
      "cell_type": "code",
      "execution_count": null,
      "id": "015e463c",
      "metadata": {
        "id": "015e463c"
      },
      "outputs": [],
      "source": [
        "b = 278"
      ]
    },
    {
      "cell_type": "code",
      "execution_count": null,
      "id": "98300a13",
      "metadata": {
        "id": "98300a13"
      },
      "outputs": [],
      "source": [
        "print(id(a))\n",
        "print(id(b))"
      ]
    },
    {
      "cell_type": "code",
      "execution_count": null,
      "id": "A_VRj3X3WKfS",
      "metadata": {
        "id": "A_VRj3X3WKfS"
      },
      "outputs": [],
      "source": [
        "a = 2\n",
        "print(id(a))"
      ]
    },
    {
      "cell_type": "code",
      "execution_count": null,
      "id": "5608f8f6",
      "metadata": {
        "id": "5608f8f6"
      },
      "outputs": [],
      "source": [
        "a == b # 2 = 2"
      ]
    },
    {
      "cell_type": "code",
      "execution_count": null,
      "id": "7509da98",
      "metadata": {
        "id": "7509da98"
      },
      "outputs": [],
      "source": [
        "id(a) == id(b)"
      ]
    },
    {
      "cell_type": "markdown",
      "id": "c2b08e1b",
      "metadata": {
        "id": "c2b08e1b"
      },
      "source": [
        "## Converting Data Types\n",
        "\n",
        "When needed you can 'cast' a variable as a different string type (remember Python automatically assigns data type to a variable).\n",
        "\n",
        "We do this through casting functions:"
      ]
    },
    {
      "cell_type": "markdown",
      "id": "dbb0c35f",
      "metadata": {
        "id": "dbb0c35f"
      },
      "source": [
        "**`int()`**"
      ]
    },
    {
      "cell_type": "code",
      "execution_count": null,
      "id": "39b9e5f5",
      "metadata": {
        "id": "39b9e5f5"
      },
      "outputs": [],
      "source": [
        "# create float variable\n",
        "var_float = 9.6\n",
        "type(var_float)"
      ]
    },
    {
      "cell_type": "code",
      "execution_count": null,
      "id": "b6440326",
      "metadata": {
        "id": "b6440326"
      },
      "outputs": [],
      "source": [
        "# cast float to integer\n",
        "var_int = int(var_float)\n",
        "\n",
        "print(type(var_int))\n",
        "var_int"
      ]
    },
    {
      "cell_type": "markdown",
      "id": "7765a689",
      "metadata": {
        "id": "7765a689"
      },
      "source": [
        "**`float()`**"
      ]
    },
    {
      "cell_type": "code",
      "execution_count": null,
      "id": "b052299d",
      "metadata": {
        "id": "b052299d"
      },
      "outputs": [],
      "source": [
        "# create string variable\n",
        "var_str = '10.2'\n",
        "type(var_str)"
      ]
    },
    {
      "cell_type": "code",
      "execution_count": null,
      "id": "3c617d79",
      "metadata": {
        "id": "3c617d79"
      },
      "outputs": [],
      "source": [
        "# cast string to float\n",
        "var_float = float(var_str)\n",
        "print(type(var_float))\n",
        "print(var_float)"
      ]
    },
    {
      "cell_type": "markdown",
      "id": "a39bd925",
      "metadata": {
        "id": "a39bd925"
      },
      "source": [
        "# Operators\n",
        "\n",
        "If variables are **nouns**, and values **meanings**, then operators are **verbs**.\n",
        "\n",
        "In effect, they are **elementary functions** that are expressed in sequential syntax.\n",
        "\n",
        "**Each data type is associated with a set of operators** that allow you to manipulate the data in way that makes sense for its type. Numeric data types are subject to mathematical operations, booleans to logical ones, and so forth.\n",
        "\n",
        "There are also **operations appropriate to structures**. For example, list-like things have membership.\n",
        "\n",
        "The relationship between types and operators is a microcosm of the relationship betweed data structures and algorithms. **Data structures imply algorithms and algorithms assume data structures.**\n",
        "\n",
        "The w3schools site has [a good summary](https://www.w3schools.com/python/python_operators.asp).\n"
      ]
    },
    {
      "cell_type": "markdown",
      "id": "62f47df4",
      "metadata": {
        "id": "62f47df4"
      },
      "source": [
        "## Numeric Operators"
      ]
    },
    {
      "cell_type": "markdown",
      "id": "36321606",
      "metadata": {
        "id": "36321606"
      },
      "source": [
        "Common: `+`, `-`, `*`, `/`\n",
        "\n",
        "\n",
        "\n",
        "Other operators:"
      ]
    },
    {
      "cell_type": "markdown",
      "id": "19c15a61",
      "metadata": {
        "id": "19c15a61"
      },
      "source": [
        "**floor division `//`**\n",
        "\n",
        "returns the largest integer less than or equal to the result"
      ]
    },
    {
      "cell_type": "code",
      "execution_count": null,
      "id": "b2746f37",
      "metadata": {
        "id": "b2746f37"
      },
      "outputs": [],
      "source": [
        "5 // 2"
      ]
    },
    {
      "cell_type": "code",
      "execution_count": null,
      "id": "54cd2cde",
      "metadata": {
        "id": "54cd2cde"
      },
      "outputs": [],
      "source": [
        "-5 // 2"
      ]
    },
    {
      "cell_type": "markdown",
      "id": "f760f61f",
      "metadata": {
        "id": "f760f61f"
      },
      "source": [
        "**modulus `%`**\n",
        "\n",
        "returns the remainder"
      ]
    },
    {
      "cell_type": "code",
      "execution_count": null,
      "id": "883ab576",
      "metadata": {
        "id": "883ab576"
      },
      "outputs": [],
      "source": [
        "5 % 2"
      ]
    },
    {
      "cell_type": "code",
      "execution_count": null,
      "id": "5cd863fc",
      "metadata": {
        "id": "5cd863fc"
      },
      "outputs": [],
      "source": [
        "print(5.5 / 2)\n",
        "print(5.5 // 2)\n",
        "print(5.5 % 2)"
      ]
    },
    {
      "cell_type": "markdown",
      "id": "f7b812d1",
      "metadata": {
        "id": "f7b812d1"
      },
      "source": [
        "**exponentiation `**` **"
      ]
    },
    {
      "cell_type": "code",
      "execution_count": null,
      "id": "65646db4",
      "metadata": {
        "id": "65646db4"
      },
      "outputs": [],
      "source": [
        "5**2"
      ]
    },
    {
      "cell_type": "markdown",
      "id": "d4e24480",
      "metadata": {
        "id": "d4e24480"
      },
      "source": [
        "## String Operators"
      ]
    },
    {
      "cell_type": "markdown",
      "id": "beddac76",
      "metadata": {
        "id": "beddac76"
      },
      "source": [
        "**concatenation `+`**"
      ]
    },
    {
      "cell_type": "code",
      "execution_count": null,
      "id": "1b8c472f",
      "metadata": {
        "id": "1b8c472f"
      },
      "outputs": [],
      "source": [
        "string1 = 'Hello world!'\n",
        "string2 = 'Goodbye world!'\n",
        "\n",
        "string1 + string2"
      ]
    },
    {
      "cell_type": "code",
      "execution_count": null,
      "id": "6d02ece1",
      "metadata": {
        "id": "6d02ece1"
      },
      "outputs": [],
      "source": [
        "string1 + string2 + ' Hello again!'"
      ]
    },
    {
      "cell_type": "code",
      "execution_count": null,
      "id": "ffb4dd10",
      "metadata": {
        "id": "ffb4dd10"
      },
      "outputs": [],
      "source": [
        "print(string1 + string2 + ' Hello again!')"
      ]
    },
    {
      "cell_type": "markdown",
      "id": "e65c547f",
      "metadata": {
        "id": "e65c547f"
      },
      "source": [
        "**repetition `*`**"
      ]
    },
    {
      "cell_type": "code",
      "execution_count": null,
      "id": "c7f6ce3c",
      "metadata": {
        "id": "c7f6ce3c"
      },
      "outputs": [],
      "source": [
        "string1 * 2"
      ]
    },
    {
      "cell_type": "code",
      "execution_count": null,
      "id": "b489cdeb",
      "metadata": {
        "id": "b489cdeb"
      },
      "outputs": [],
      "source": [
        "# '\\n' moves to the next line (like hitting the return button)\n",
        "print((string1 + '\\n') * 5)"
      ]
    },
    {
      "cell_type": "markdown",
      "id": "1eb2f0fb",
      "metadata": {
        "id": "1eb2f0fb"
      },
      "source": [
        "**subsetting a string**"
      ]
    },
    {
      "cell_type": "code",
      "execution_count": null,
      "id": "f920bead",
      "metadata": {
        "id": "f920bead"
      },
      "outputs": [],
      "source": [
        "# extract the first 2 characters\n",
        "string1[:2]"
      ]
    },
    {
      "cell_type": "code",
      "execution_count": null,
      "id": "02395bc2",
      "metadata": {
        "id": "02395bc2"
      },
      "outputs": [],
      "source": [
        "# extract the last 2 characters\n",
        "string1[-2:]"
      ]
    },
    {
      "cell_type": "code",
      "execution_count": null,
      "id": "11b5f9fe",
      "metadata": {
        "id": "11b5f9fe"
      },
      "outputs": [],
      "source": [
        "# string1 = 4\n",
        "string1.startswith('o')"
      ]
    },
    {
      "cell_type": "code",
      "execution_count": null,
      "id": "bfe6abad",
      "metadata": {
        "id": "bfe6abad"
      },
      "outputs": [],
      "source": [
        "string1.endswith('!')"
      ]
    },
    {
      "cell_type": "markdown",
      "id": "2b532933",
      "metadata": {
        "id": "2b532933"
      },
      "source": [
        "**Python strings are *immutable* - cannot reassign elements**"
      ]
    },
    {
      "cell_type": "code",
      "execution_count": null,
      "id": "3eeaf3a4",
      "metadata": {
        "id": "3eeaf3a4"
      },
      "outputs": [],
      "source": [
        "string1[0]"
      ]
    },
    {
      "cell_type": "code",
      "execution_count": null,
      "id": "1m1matmGdPYZ",
      "metadata": {
        "id": "1m1matmGdPYZ"
      },
      "outputs": [],
      "source": [
        "string1[0] = \"Y\""
      ]
    },
    {
      "cell_type": "markdown",
      "id": "74ab041a",
      "metadata": {
        "id": "74ab041a"
      },
      "source": [
        "## Comparison Operators\n",
        "\n",
        "comparisons are questions and return boolean values"
      ]
    },
    {
      "cell_type": "markdown",
      "id": "223926d9",
      "metadata": {
        "id": "223926d9"
      },
      "source": [
        "**equality `==`**"
      ]
    },
    {
      "cell_type": "code",
      "execution_count": null,
      "id": "238eba4f",
      "metadata": {
        "id": "238eba4f"
      },
      "outputs": [],
      "source": [
        "# numeric\n",
        "25 == 4**2 + 9"
      ]
    },
    {
      "cell_type": "code",
      "execution_count": null,
      "id": "bebcc082",
      "metadata": {
        "id": "bebcc082"
      },
      "outputs": [],
      "source": [
        "# string\n",
        "string1 == string2"
      ]
    },
    {
      "cell_type": "markdown",
      "id": "bd41f67a",
      "metadata": {
        "id": "bd41f67a"
      },
      "source": [
        "**inequality `!=`**"
      ]
    },
    {
      "cell_type": "code",
      "execution_count": null,
      "id": "3f493f41",
      "metadata": {
        "id": "3f493f41"
      },
      "outputs": [],
      "source": [
        "# numeric\n",
        "25 != 20 + 6"
      ]
    },
    {
      "cell_type": "code",
      "execution_count": null,
      "id": "d3dcab60",
      "metadata": {
        "id": "d3dcab60"
      },
      "outputs": [],
      "source": [
        "# string\n",
        "string1 != string2"
      ]
    },
    {
      "cell_type": "markdown",
      "id": "85b81fc4",
      "metadata": {
        "id": "85b81fc4"
      },
      "source": [
        "**greater than `>`, less than `<`**"
      ]
    },
    {
      "cell_type": "code",
      "execution_count": null,
      "id": "66ae66a2",
      "metadata": {
        "id": "66ae66a2"
      },
      "outputs": [],
      "source": [
        "20 > 10"
      ]
    },
    {
      "cell_type": "code",
      "execution_count": null,
      "id": "cbc90b9f",
      "metadata": {
        "id": "cbc90b9f"
      },
      "outputs": [],
      "source": [
        "2*10 >= 20"
      ]
    },
    {
      "cell_type": "code",
      "execution_count": null,
      "id": "c9dc02ef",
      "metadata": {
        "id": "c9dc02ef"
      },
      "outputs": [],
      "source": [
        "3%2 < 5"
      ]
    },
    {
      "cell_type": "code",
      "execution_count": null,
      "id": "822d153c",
      "metadata": {
        "id": "822d153c"
      },
      "outputs": [],
      "source": [
        "-3 <= 0"
      ]
    },
    {
      "cell_type": "markdown",
      "id": "_dsNtmliey8x",
      "metadata": {
        "id": "_dsNtmliey8x"
      },
      "source": [
        "Does it work on strings?"
      ]
    },
    {
      "cell_type": "code",
      "execution_count": null,
      "id": "TI9MyZOodls3",
      "metadata": {
        "id": "TI9MyZOodls3"
      },
      "outputs": [],
      "source": [
        "string1 < string2"
      ]
    },
    {
      "cell_type": "markdown",
      "id": "b85zJLHie3mX",
      "metadata": {
        "id": "b85zJLHie3mX"
      },
      "source": [
        "Wait.... what does it  mean?"
      ]
    },
    {
      "cell_type": "markdown",
      "id": "6bc15d1a",
      "metadata": {
        "id": "6bc15d1a"
      },
      "source": [
        "## Logical Operators"
      ]
    },
    {
      "cell_type": "markdown",
      "id": "0852b502",
      "metadata": {
        "id": "0852b502"
      },
      "source": [
        "**conjunctions `and`, `or`, `not`**\n",
        "\n",
        "Note the we group comparisons with parentheses"
      ]
    },
    {
      "cell_type": "code",
      "execution_count": null,
      "id": "94c739af",
      "metadata": {
        "id": "94c739af"
      },
      "outputs": [],
      "source": [
        "x = 10\n",
        "\n",
        "(x % 10 == 0) or (x < -1)"
      ]
    },
    {
      "cell_type": "code",
      "execution_count": null,
      "id": "c965353f",
      "metadata": {
        "id": "c965353f"
      },
      "outputs": [],
      "source": [
        "(x % 10 == 0) and (x < -1)"
      ]
    },
    {
      "cell_type": "code",
      "execution_count": null,
      "id": "0a5c8923",
      "metadata": {
        "id": "0a5c8923"
      },
      "outputs": [],
      "source": [
        "not x == 5"
      ]
    },
    {
      "cell_type": "markdown",
      "id": "2b2c6385",
      "metadata": {
        "id": "2b2c6385"
      },
      "source": [
        "**Identity `is`**\n",
        "\n",
        "The `is` keyword is used to test if two variables refer to the same object.\n",
        "\n",
        "The test returns `True` if the two objects are the same object.\n",
        "\n",
        "The test returns False if they are not the same object, even if the two objects are 100% equal.\n",
        "\n",
        "Use the `==` operator to test if two variables are equal.\n",
        "\n",
        "-- from [W3Schools on Identity Operators](https://www.w3schools.com/python/gloss_python_identity_operators.asp)"
      ]
    },
    {
      "cell_type": "code",
      "execution_count": null,
      "id": "1fffb03e",
      "metadata": {
        "id": "1fffb03e"
      },
      "outputs": [],
      "source": [
        "x = ['apple', 'banana']\n",
        "y = ['apple', 'banana']\n",
        "z = x"
      ]
    },
    {
      "cell_type": "code",
      "execution_count": null,
      "id": "7d1c3a7c",
      "metadata": {
        "id": "7d1c3a7c"
      },
      "outputs": [],
      "source": [
        "x is z"
      ]
    },
    {
      "cell_type": "code",
      "execution_count": null,
      "id": "3ad78cc4",
      "metadata": {
        "id": "3ad78cc4"
      },
      "outputs": [],
      "source": [
        "x is y"
      ]
    },
    {
      "cell_type": "code",
      "execution_count": null,
      "id": "98ea6ee2",
      "metadata": {
        "id": "98ea6ee2"
      },
      "outputs": [],
      "source": [
        "x == y"
      ]
    },
    {
      "cell_type": "code",
      "execution_count": null,
      "id": "c652f2de",
      "metadata": {
        "id": "c652f2de"
      },
      "outputs": [],
      "source": [
        "x == z"
      ]
    },
    {
      "cell_type": "code",
      "execution_count": null,
      "id": "dim8oU6RfRct",
      "metadata": {
        "id": "dim8oU6RfRct"
      },
      "outputs": [],
      "source": [
        "print(id(z),id(x),id(y))"
      ]
    },
    {
      "cell_type": "markdown",
      "id": "S9ZM9X9zf8qN",
      "metadata": {
        "id": "S9ZM9X9zf8qN"
      },
      "source": [
        "Let change the first component of x, and check the impact on z (if any)"
      ]
    },
    {
      "cell_type": "code",
      "execution_count": null,
      "id": "1b-Evm7vfbqi",
      "metadata": {
        "id": "1b-Evm7vfbqi"
      },
      "outputs": [],
      "source": [
        "x[0] = 'orange'\n",
        "print(z)"
      ]
    },
    {
      "cell_type": "markdown",
      "id": "QpaZLSVugLdM",
      "metadata": {
        "id": "QpaZLSVugLdM"
      },
      "source": [
        "Has their id's changed?"
      ]
    },
    {
      "cell_type": "code",
      "execution_count": null,
      "id": "72rHQVm_gPdq",
      "metadata": {
        "id": "72rHQVm_gPdq"
      },
      "outputs": [],
      "source": [
        "print(id(z),id(x),id(y))"
      ]
    },
    {
      "cell_type": "markdown",
      "id": "IU_HjF0rgYD4",
      "metadata": {
        "id": "IU_HjF0rgYD4"
      },
      "source": [
        "The id is (seems to be) a pointer to the memory location were the object is stored"
      ]
    },
    {
      "cell_type": "markdown",
      "id": "47f381d0",
      "metadata": {
        "id": "47f381d0"
      },
      "source": [
        "**`isinstance()`**\n",
        "\n",
        "function returns `True` if the specified object is of the specified type, otherwise `False`"
      ]
    },
    {
      "cell_type": "code",
      "execution_count": null,
      "id": "fc6373f1",
      "metadata": {
        "id": "fc6373f1"
      },
      "outputs": [],
      "source": [
        "#example\n",
        "\n",
        "isinstance(\"Hello\", (float, int, str))"
      ]
    },
    {
      "cell_type": "markdown",
      "id": "cCqNlVF5g1k7",
      "metadata": {
        "id": "cCqNlVF5g1k7"
      },
      "source": [
        "The object (float, int, str) is NOT a list, it is a **tuple**. Lists have [ ]."
      ]
    },
    {
      "cell_type": "code",
      "execution_count": null,
      "id": "ffc578d5",
      "metadata": {
        "id": "ffc578d5"
      },
      "outputs": [],
      "source": [
        "#example\n",
        "isinstance(\"Hello\", int)"
      ]
    },
    {
      "cell_type": "markdown",
      "id": "eac52c21",
      "metadata": {
        "id": "eac52c21"
      },
      "source": [
        "## Unary Operators\n",
        "\n",
        "Python offers a short-cut for most operators. When updating a variable with an operation to that variable, such as:\n",
        "```python\n",
        "my_var = my_var + 1  # Incrementing\n",
        "```\n",
        "\n",
        "You can do this:\n",
        "```python\n",
        "my_var += 1\n",
        "```"
      ]
    },
    {
      "cell_type": "code",
      "execution_count": null,
      "id": "bMIFvSa5iMnj",
      "metadata": {
        "id": "bMIFvSa5iMnj"
      },
      "outputs": [],
      "source": [
        "my_var= 0\n",
        "my_var = my_var + 1  # Incrementing\n",
        "my_var"
      ]
    },
    {
      "cell_type": "markdown",
      "id": "8k_7o-WoiU1y",
      "metadata": {
        "id": "8k_7o-WoiU1y"
      },
      "source": [
        "You can also di this:"
      ]
    },
    {
      "cell_type": "code",
      "execution_count": null,
      "id": "SrYrwfRhiX53",
      "metadata": {
        "id": "SrYrwfRhiX53"
      },
      "outputs": [],
      "source": [
        "my_var += 1\n",
        "my_var"
      ]
    },
    {
      "cell_type": "markdown",
      "id": "52ffc918",
      "metadata": {
        "id": "52ffc918"
      },
      "source": [
        "Python supports many operators this way. Here are some:\n",
        "```python\n",
        "a -= 2\n",
        "a /= 3\n",
        "a //= 2\n",
        "a %= 4\n",
        "a *= 5\n",
        "a **= 2\n",
        "```\n",
        "more here: https://www.w3schools.com/python/python_operators.asp"
      ]
    },
    {
      "cell_type": "markdown",
      "id": "aa92ce5d",
      "metadata": {
        "id": "aa92ce5d"
      },
      "source": [
        "## Expressions\n",
        "\n",
        "Variables, literal values, and operators are the building blocks of expressions.\n",
        "\n",
        "For example, the following combines three operators and four variables:"
      ]
    },
    {
      "cell_type": "code",
      "execution_count": null,
      "id": "5058a10b",
      "metadata": {
        "id": "5058a10b"
      },
      "outputs": [],
      "source": [
        "1 + 2 * 3 / 2"
      ]
    },
    {
      "cell_type": "markdown",
      "id": "bb74c18b",
      "metadata": {
        "id": "bb74c18b"
      },
      "source": [
        "Python employs **operator precedence** when evaluating expressions:\n",
        "\n",
        "```\n",
        "P – Parentheses\n",
        "E – Exponentiation\n",
        "M – Multiplication\n",
        "D – Division\n",
        "A – Addition\n",
        "S – Subtraction\n",
        "```"
      ]
    },
    {
      "cell_type": "code",
      "execution_count": null,
      "id": "febc7986",
      "metadata": {
        "id": "febc7986"
      },
      "outputs": [],
      "source": [
        "(1 + 2) * (3 / 2)"
      ]
    },
    {
      "cell_type": "code",
      "execution_count": null,
      "id": "EhGRuvolij5d",
      "metadata": {
        "id": "EhGRuvolij5d"
      },
      "outputs": [],
      "source": [
        "(2 * 2 - 1)"
      ]
    },
    {
      "cell_type": "code",
      "execution_count": null,
      "id": "2kT6mE7Yi0b_",
      "metadata": {
        "id": "2kT6mE7Yi0b_"
      },
      "outputs": [],
      "source": [
        "(3 + 1 / 2 + 1)"
      ]
    },
    {
      "cell_type": "markdown",
      "id": "fa23e2ea",
      "metadata": {
        "id": "fa23e2ea"
      },
      "source": [
        "Variables and literal values can be combined:"
      ]
    },
    {
      "cell_type": "code",
      "execution_count": null,
      "id": "775ccb3e",
      "metadata": {
        "id": "775ccb3e"
      },
      "outputs": [],
      "source": [
        "y = 5\n",
        "m = 2.5\n",
        "b = 10"
      ]
    },
    {
      "cell_type": "code",
      "execution_count": null,
      "id": "f249f060",
      "metadata": {
        "id": "f249f060"
      },
      "outputs": [],
      "source": [
        "y = m * 10 + b\n",
        "y"
      ]
    },
    {
      "cell_type": "code",
      "execution_count": null,
      "id": "cd446cc6",
      "metadata": {
        "id": "cd446cc6"
      },
      "outputs": [],
      "source": [
        "y = m * 5 + b\n",
        "y"
      ]
    },
    {
      "cell_type": "markdown",
      "id": "fe3afbe8",
      "metadata": {
        "id": "fe3afbe8"
      },
      "source": [
        "Expressions can be very complex.\n",
        "\n",
        "Expressions evaluate to a value, just as single variables do.\n",
        "\n",
        "Therefore, they can be put anywhere a value is accepted."
      ]
    },
    {
      "cell_type": "code",
      "execution_count": null,
      "id": "5ef7fe16",
      "metadata": {
        "id": "5ef7fe16"
      },
      "outputs": [],
      "source": [
        "int((y + 10) ** 8)"
      ]
    },
    {
      "cell_type": "code",
      "execution_count": null,
      "id": "8e78bab8-3ae8-4828-b226-e9d2129e074d",
      "metadata": {
        "id": "8e78bab8-3ae8-4828-b226-e9d2129e074d"
      },
      "outputs": [],
      "source": []
    },
    {
      "cell_type": "markdown",
      "id": "e1da9f30-0bd2-40f1-ac41-fbd3d0fe4630",
      "metadata": {
        "id": "e1da9f30-0bd2-40f1-ac41-fbd3d0fe4630"
      },
      "source": [
        "# Built-in Math Functions for Numbers"
      ]
    },
    {
      "cell_type": "markdown",
      "id": "b3fb56c2-2013-4733-a174-95bb33619cdd",
      "metadata": {
        "id": "b3fb56c2-2013-4733-a174-95bb33619cdd"
      },
      "source": [
        "**power `pow()`**"
      ]
    },
    {
      "cell_type": "code",
      "execution_count": null,
      "id": "ea522a7c-e422-469f-8af2-4634f112e4da",
      "metadata": {
        "id": "ea522a7c-e422-469f-8af2-4634f112e4da"
      },
      "outputs": [],
      "source": [
        "# 4 raised to 2 = 16\n",
        "print(pow(4,2))"
      ]
    },
    {
      "cell_type": "markdown",
      "id": "86cb886d-316c-4ea0-a09b-a5a319d9ac20",
      "metadata": {
        "id": "86cb886d-316c-4ea0-a09b-a5a319d9ac20"
      },
      "source": [
        "**absolute value `abs()`**"
      ]
    },
    {
      "cell_type": "code",
      "execution_count": null,
      "id": "b587cde4-095b-440c-ae19-39543b93df81",
      "metadata": {
        "id": "b587cde4-095b-440c-ae19-39543b93df81"
      },
      "outputs": [],
      "source": [
        "# returns 2, the absolute value of its argument\n",
        "print(abs(-2))"
      ]
    },
    {
      "cell_type": "markdown",
      "id": "e3da7879-3102-46b7-8126-501dbe656ff7",
      "metadata": {
        "id": "e3da7879-3102-46b7-8126-501dbe656ff7"
      },
      "source": [
        "**round `round()`**"
      ]
    },
    {
      "cell_type": "code",
      "execution_count": null,
      "id": "59d9973e-ab07-4e69-8497-cf36c4dfc161",
      "metadata": {
        "id": "59d9973e-ab07-4e69-8497-cf36c4dfc161"
      },
      "outputs": [],
      "source": [
        "# rounds up or down to closest whole number\n",
        "print(round(2.8)) # rounds up to 3.0\n",
        "print(round(1.1)) # rounds down to 1.0"
      ]
    },
    {
      "cell_type": "markdown",
      "id": "4c7cb952-ecab-42f4-9e9a-fe5f7a0801b2",
      "metadata": {
        "id": "4c7cb952-ecab-42f4-9e9a-fe5f7a0801b2",
        "tags": []
      },
      "source": [
        "# Math Library Functions\n",
        "\n",
        "See the Python docs on [the math library](https://docs.python.org/3/library/math.html)."
      ]
    },
    {
      "cell_type": "code",
      "execution_count": null,
      "id": "300ba358-8ef6-4172-8f65-c59b211b1900",
      "metadata": {
        "id": "300ba358-8ef6-4172-8f65-c59b211b1900",
        "tags": []
      },
      "outputs": [],
      "source": [
        "# import dependency\n",
        "import math"
      ]
    },
    {
      "cell_type": "markdown",
      "id": "c35bd998-cfd3-4c91-84cb-b8463d1131ca",
      "metadata": {
        "id": "c35bd998-cfd3-4c91-84cb-b8463d1131ca"
      },
      "source": [
        "**square root `math.sqrt()`**"
      ]
    },
    {
      "cell_type": "code",
      "execution_count": null,
      "id": "432158ec-93b8-465c-97d4-f906e2e1e479",
      "metadata": {
        "id": "432158ec-93b8-465c-97d4-f906e2e1e479"
      },
      "outputs": [],
      "source": [
        "# help\n",
        "math.sqrt?"
      ]
    },
    {
      "cell_type": "code",
      "execution_count": null,
      "id": "8306e965-f41a-4753-8143-1ed0fcdb27fa",
      "metadata": {
        "id": "8306e965-f41a-4753-8143-1ed0fcdb27fa"
      },
      "outputs": [],
      "source": [
        "print(math.sqrt(12)) # using the square-root function from the math library"
      ]
    },
    {
      "cell_type": "code",
      "execution_count": null,
      "id": "99aceabc-6465-46a7-bc02-b5528cd7815e",
      "metadata": {
        "id": "99aceabc-6465-46a7-bc02-b5528cd7815e"
      },
      "outputs": [],
      "source": [
        "# round answer\n",
        "round(math.sqrt(12), 2)"
      ]
    },
    {
      "cell_type": "markdown",
      "id": "8e8fb99b-0dba-4c33-92ca-16c3bde488a8",
      "metadata": {
        "id": "8e8fb99b-0dba-4c33-92ca-16c3bde488a8"
      },
      "source": [
        "## Formatting\n",
        "\n",
        "**`format()`**"
      ]
    },
    {
      "cell_type": "code",
      "execution_count": null,
      "id": "457d1161-2c12-422f-b7cc-412cd0fc0cd2",
      "metadata": {
        "id": "457d1161-2c12-422f-b7cc-412cd0fc0cd2"
      },
      "outputs": [],
      "source": [
        "# round to 2 decimal places within print function\n",
        "print(format(math.sqrt(12), '.2f'))"
      ]
    },
    {
      "cell_type": "code",
      "execution_count": null,
      "id": "233a2b1d-25a0-44ce-8b6d-50675740649c",
      "metadata": {
        "id": "233a2b1d-25a0-44ce-8b6d-50675740649c"
      },
      "outputs": [],
      "source": [
        "# another format example\n",
        "txt = 'This item costs {price:.2f} dollars'\n",
        "print(txt.format(price = 23.926))"
      ]
    },
    {
      "cell_type": "code",
      "execution_count": null,
      "id": "0dd55c4e-cb4f-4454-9c26-d80419afbc3b",
      "metadata": {
        "id": "0dd55c4e-cb4f-4454-9c26-d80419afbc3b"
      },
      "outputs": [],
      "source": [
        "# Since python 3.9\n",
        "price = 32.926\n",
        "print(f\"This item costs {price:.2f} dollars\")"
      ]
    },
    {
      "cell_type": "markdown",
      "id": "c6763548-3ab3-4018-b578-bf0b21e471da",
      "metadata": {
        "id": "c6763548-3ab3-4018-b578-bf0b21e471da"
      },
      "source": [
        "**`math.floor()`**"
      ]
    },
    {
      "cell_type": "code",
      "execution_count": null,
      "id": "e698b554-35f5-4cc7-b1b4-4e4b850a4a21",
      "metadata": {
        "id": "e698b554-35f5-4cc7-b1b4-4e4b850a4a21"
      },
      "outputs": [],
      "source": [
        "# returns largest whole number less than the argument\n",
        "print(math.floor(2.5))\n",
        "print(math.floor(2.9))\n",
        "print(math.floor(2.1))"
      ]
    },
    {
      "cell_type": "markdown",
      "id": "5170e092-6577-459c-9f6c-9fe2e433fd82",
      "metadata": {
        "id": "5170e092-6577-459c-9f6c-9fe2e433fd82",
        "tags": []
      },
      "source": [
        "**`math.log()`**"
      ]
    },
    {
      "cell_type": "code",
      "execution_count": null,
      "id": "0c7b17b2-ae2b-428a-9f2f-7fe3d4aa8151",
      "metadata": {
        "id": "0c7b17b2-ae2b-428a-9f2f-7fe3d4aa8151"
      },
      "outputs": [],
      "source": [
        "math.log?"
      ]
    },
    {
      "cell_type": "code",
      "execution_count": null,
      "id": "f1f66815-2408-477c-b4fb-64618ec44078",
      "metadata": {
        "id": "f1f66815-2408-477c-b4fb-64618ec44078"
      },
      "outputs": [],
      "source": [
        "# default: natural log, base e\n",
        "math.log(100)"
      ]
    },
    {
      "cell_type": "code",
      "execution_count": null,
      "id": "fec14397-6e07-428e-9a04-f8a175309686",
      "metadata": {
        "id": "fec14397-6e07-428e-9a04-f8a175309686"
      },
      "outputs": [],
      "source": [
        "# log of 100, base 10\n",
        "math.log(100, 10)"
      ]
    },
    {
      "cell_type": "code",
      "execution_count": null,
      "id": "3306ed20-c960-4d6e-a0fa-51bfac0ad8d3",
      "metadata": {
        "id": "3306ed20-c960-4d6e-a0fa-51bfac0ad8d3"
      },
      "outputs": [],
      "source": [
        "# log of 256, base 2\n",
        "math.log(256, 2)"
      ]
    },
    {
      "cell_type": "markdown",
      "id": "5fb72582-7260-4519-8fc9-ecf5513c6a8a",
      "metadata": {
        "id": "5fb72582-7260-4519-8fc9-ecf5513c6a8a"
      },
      "source": [
        "# The Random library\n",
        "\n",
        "See [random — Generate pseudo-random numbers](https://docs.python.org/3/library/random.html) for more info."
      ]
    },
    {
      "cell_type": "code",
      "execution_count": null,
      "id": "bb236d70-d534-41d2-bffa-527331203786",
      "metadata": {
        "id": "bb236d70-d534-41d2-bffa-527331203786"
      },
      "outputs": [],
      "source": [
        "import random as rnd"
      ]
    },
    {
      "cell_type": "markdown",
      "id": "890ef1f4-4f96-4089-b670-6476734bc55d",
      "metadata": {
        "id": "890ef1f4-4f96-4089-b670-6476734bc55d"
      },
      "source": [
        "### `random.random()`"
      ]
    },
    {
      "cell_type": "code",
      "execution_count": null,
      "id": "c9dc1547-f291-4d5c-92f5-460af3e2f547",
      "metadata": {
        "id": "c9dc1547-f291-4d5c-92f5-460af3e2f547"
      },
      "outputs": [],
      "source": [
        "rnd.random?"
      ]
    },
    {
      "cell_type": "code",
      "execution_count": null,
      "id": "b8c38324-9fa4-4b12-9806-e4445a48d763",
      "metadata": {
        "id": "b8c38324-9fa4-4b12-9806-e4445a48d763"
      },
      "outputs": [],
      "source": [
        "# using random() function in random library\n",
        "# will return a number between 0 and 1\n",
        "print(rnd.random())"
      ]
    },
    {
      "cell_type": "markdown",
      "id": "e5d97349-2729-43b9-addd-0eb41ae44710",
      "metadata": {
        "id": "e5d97349-2729-43b9-addd-0eb41ae44710",
        "tags": []
      },
      "source": [
        "### `rnd.randint()`"
      ]
    },
    {
      "cell_type": "code",
      "execution_count": null,
      "id": "9396ec22-58f3-4552-b4b9-03bfba2c1a46",
      "metadata": {
        "id": "9396ec22-58f3-4552-b4b9-03bfba2c1a46"
      },
      "outputs": [],
      "source": [
        "rnd.randint?"
      ]
    },
    {
      "cell_type": "code",
      "execution_count": null,
      "id": "5a4e88bd-dc97-4a63-9b9d-acdbb49b28f1",
      "metadata": {
        "id": "5a4e88bd-dc97-4a63-9b9d-acdbb49b28f1"
      },
      "outputs": [],
      "source": [
        "# specify a range in the parenthesis\n",
        "# this will return a random integer in the range 1-100\n",
        "print(rnd.randint(1,100))"
      ]
    },
    {
      "cell_type": "markdown",
      "id": "3aba7450-9e7f-4d7f-ae51-f0eff46e52b8",
      "metadata": {
        "id": "3aba7450-9e7f-4d7f-ae51-f0eff46e52b8"
      },
      "source": [
        "# Booleans"
      ]
    },
    {
      "cell_type": "markdown",
      "id": "1de12eaf-cb3b-45f2-b79f-9d04ab193fdd",
      "metadata": {
        "id": "1de12eaf-cb3b-45f2-b79f-9d04ab193fdd"
      },
      "source": [
        "A `boolean` value takes one of `True` or `False`, which are built-in values"
      ]
    },
    {
      "cell_type": "code",
      "execution_count": null,
      "id": "fc9c80f3-4bcc-4067-921e-b80287509c66",
      "metadata": {
        "id": "fc9c80f3-4bcc-4067-921e-b80287509c66"
      },
      "outputs": [],
      "source": [
        "data = True\n",
        "\n",
        "if data:\n",
        "    print(\"Your data is good!\")"
      ]
    },
    {
      "cell_type": "markdown",
      "id": "e63f2db3-0e07-4caf-be17-154094f1b280",
      "metadata": {
        "id": "e63f2db3-0e07-4caf-be17-154094f1b280"
      },
      "source": [
        "### If / then example"
      ]
    },
    {
      "cell_type": "code",
      "execution_count": null,
      "id": "b1916c2b-8295-4977-9b59-7fe8a97b0051",
      "metadata": {
        "id": "b1916c2b-8295-4977-9b59-7fe8a97b0051"
      },
      "outputs": [],
      "source": [
        "datum = False\n",
        "\n",
        "if data or datum:\n",
        "    print(\"plural or singular?\")\n",
        "else:\n",
        "    print(\"condition not met\")"
      ]
    },
    {
      "cell_type": "code",
      "execution_count": null,
      "id": "39740e1a-c46a-458b-9adf-39a7127205e0",
      "metadata": {
        "id": "39740e1a-c46a-458b-9adf-39a7127205e0"
      },
      "outputs": [],
      "source": [
        "if data and datum:\n",
        "    print(\"plural or singular?\")\n",
        "else:\n",
        "    print(\"condition not met\")"
      ]
    },
    {
      "cell_type": "code",
      "execution_count": null,
      "id": "12c673ab-46c1-4ba8-ac15-e2fd82464b27",
      "metadata": {
        "id": "12c673ab-46c1-4ba8-ac15-e2fd82464b27"
      },
      "outputs": [],
      "source": [
        "if datum and data:\n",
        "    print(\"plural or singular?\")"
      ]
    },
    {
      "cell_type": "markdown",
      "id": "158afe04-57c6-40a2-bf31-0bc01be7fe57",
      "metadata": {
        "id": "158afe04-57c6-40a2-bf31-0bc01be7fe57"
      },
      "source": [
        "AND statements will short circuit if an early condition fails.\n",
        "\n",
        "In this case, since *datum* is False, the check on *data* never happens.\n",
        "\n",
        "(We'll cover if/then statements in detail later on)"
      ]
    },
    {
      "cell_type": "code",
      "execution_count": null,
      "id": "622f5977-466a-4eba-9f04-b2fccafde1a8",
      "metadata": {
        "id": "622f5977-466a-4eba-9f04-b2fccafde1a8"
      },
      "outputs": [],
      "source": []
    },
    {
      "cell_type": "code",
      "execution_count": null,
      "id": "70b7cfd8-1c98-421e-95f5-db85e27ad726",
      "metadata": {
        "id": "70b7cfd8-1c98-421e-95f5-db85e27ad726"
      },
      "outputs": [],
      "source": []
    }
  ],
  "metadata": {
    "colab": {
      "provenance": [],
      "include_colab_link": true
    },
    "kernelspec": {
      "display_name": "Python 3 (ipykernel)",
      "language": "python",
      "name": "python3"
    },
    "language_info": {
      "codemirror_mode": {
        "name": "ipython",
        "version": 3
      },
      "file_extension": ".py",
      "mimetype": "text/x-python",
      "name": "python",
      "nbconvert_exporter": "python",
      "pygments_lexer": "ipython3",
      "version": "3.10.11"
    },
    "vscode": {
      "interpreter": {
        "hash": "256476f871f41dd9f410a4535ba940f788da543573a25285757e797fedf9c871"
      }
    }
  },
  "nbformat": 4,
  "nbformat_minor": 5
}