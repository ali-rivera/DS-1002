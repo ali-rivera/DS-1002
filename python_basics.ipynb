{
  "cells": [
    {
      "cell_type": "markdown",
      "metadata": {
        "id": "view-in-github",
        "colab_type": "text"
      },
      "source": [
        "<a href=\"https://colab.research.google.com/github/gg5d/DS-1002/blob/main/python_basics.ipynb\" target=\"_parent\"><img src=\"https://colab.research.google.com/assets/colab-badge.svg\" alt=\"Open In Colab\"/></a>"
      ]
    },
    {
      "cell_type": "markdown",
      "id": "7f2a553a",
      "metadata": {
        "id": "7f2a553a"
      },
      "source": [
        "# Metadata\n",
        "\n",
        "```\n",
        "Course:      DS 1002\n",
        "Week:        Python Basics\n",
        "Topic:       Python Types, Operators, Expressions, Math Library, Formatting, and if/then\n",
        "```"
      ]
    },
    {
      "cell_type": "markdown",
      "id": "420867eb",
      "metadata": {
        "id": "420867eb"
      },
      "source": [
        "# Data Types"
      ]
    },
    {
      "cell_type": "markdown",
      "id": "19101330",
      "metadata": {
        "id": "19101330"
      },
      "source": [
        "**Integers**"
      ]
    },
    {
      "cell_type": "code",
      "execution_count": null,
      "id": "d4bb46d9",
      "metadata": {
        "colab": {
          "base_uri": "https://localhost:8080/"
        },
        "id": "d4bb46d9",
        "outputId": "eae67629-3224-4cdb-f565-231d1f8603ce"
      },
      "outputs": [
        {
          "data": {
            "text/plain": [
              "42"
            ]
          },
          "execution_count": 1,
          "metadata": {},
          "output_type": "execute_result"
        }
      ],
      "source": [
        "# the number 42 is an integer\n",
        "# (a # 'comments out' your code - i.e. not read by the interpreter)\n",
        "\n",
        "42"
      ]
    },
    {
      "cell_type": "markdown",
      "id": "31315126",
      "metadata": {
        "id": "31315126"
      },
      "source": [
        "`type()`: # can use the type() function to check the data type"
      ]
    },
    {
      "cell_type": "code",
      "execution_count": null,
      "id": "871bad4d",
      "metadata": {
        "colab": {
          "base_uri": "https://localhost:8080/"
        },
        "id": "871bad4d",
        "outputId": "eca16bae-9279-4e9f-c798-680505f77376"
      },
      "outputs": [
        {
          "data": {
            "text/plain": [
              "int"
            ]
          },
          "execution_count": 2,
          "metadata": {},
          "output_type": "execute_result"
        }
      ],
      "source": [
        "type(43)"
      ]
    },
    {
      "cell_type": "markdown",
      "id": "6da7af9c",
      "metadata": {
        "id": "6da7af9c"
      },
      "source": [
        "**Floats (decimals)**"
      ]
    },
    {
      "cell_type": "code",
      "execution_count": null,
      "id": "a878eab3",
      "metadata": {
        "colab": {
          "base_uri": "https://localhost:8080/"
        },
        "id": "a878eab3",
        "outputId": "ead3e932-f4e8-44a9-fa3c-3c081ae5c878"
      },
      "outputs": [
        {
          "data": {
            "text/plain": [
              "3.14"
            ]
          },
          "execution_count": 3,
          "metadata": {},
          "output_type": "execute_result"
        }
      ],
      "source": [
        "3.14"
      ]
    },
    {
      "cell_type": "code",
      "execution_count": null,
      "id": "431a66a5",
      "metadata": {
        "colab": {
          "base_uri": "https://localhost:8080/"
        },
        "id": "431a66a5",
        "outputId": "ac28d3db-f6d0-4450-fafb-3acd18cac976"
      },
      "outputs": [
        {
          "data": {
            "text/plain": [
              "float"
            ]
          },
          "execution_count": 4,
          "metadata": {},
          "output_type": "execute_result"
        }
      ],
      "source": [
        "type(3.14)"
      ]
    },
    {
      "cell_type": "markdown",
      "id": "f148727a",
      "metadata": {
        "id": "f148727a"
      },
      "source": [
        "**Strings**\n",
        "\n",
        "No specific character type as in other programming languages\n",
        "\n",
        "Remember to use quotations"
      ]
    },
    {
      "cell_type": "code",
      "execution_count": null,
      "id": "0cb6b853",
      "metadata": {
        "colab": {
          "base_uri": "https://localhost:8080/",
          "height": 35
        },
        "id": "0cb6b853",
        "outputId": "08b3a373-c523-4207-e628-88e05fe4c880"
      },
      "outputs": [
        {
          "data": {
            "application/vnd.google.colaboratory.intrinsic+json": {
              "type": "string"
            },
            "text/plain": [
              "'wahoo'"
            ]
          },
          "execution_count": 9,
          "metadata": {},
          "output_type": "execute_result"
        }
      ],
      "source": [
        "'wahoo'"
      ]
    },
    {
      "cell_type": "code",
      "execution_count": null,
      "id": "ef3589b0",
      "metadata": {
        "colab": {
          "base_uri": "https://localhost:8080/",
          "height": 35
        },
        "id": "ef3589b0",
        "outputId": "aeb5e4eb-5f24-494c-cf54-f8023ac35652"
      },
      "outputs": [
        {
          "data": {
            "application/vnd.google.colaboratory.intrinsic+json": {
              "type": "string"
            },
            "text/plain": [
              "'wahoo'"
            ]
          },
          "execution_count": 6,
          "metadata": {},
          "output_type": "execute_result"
        }
      ],
      "source": [
        "\"wahoo\""
      ]
    },
    {
      "cell_type": "code",
      "execution_count": null,
      "id": "ddae5090",
      "metadata": {
        "colab": {
          "base_uri": "https://localhost:8080/"
        },
        "id": "ddae5090",
        "outputId": "4a9699a4-0b35-4230-c444-9848a0899d77"
      },
      "outputs": [
        {
          "data": {
            "text/plain": [
              "str"
            ]
          },
          "execution_count": 7,
          "metadata": {},
          "output_type": "execute_result"
        }
      ],
      "source": [
        "type('wahoo')"
      ]
    },
    {
      "cell_type": "markdown",
      "id": "0bd2b5a7",
      "metadata": {
        "id": "0bd2b5a7"
      },
      "source": [
        "**Boolean**"
      ]
    },
    {
      "cell_type": "code",
      "execution_count": null,
      "id": "c2435321",
      "metadata": {
        "colab": {
          "base_uri": "https://localhost:8080/"
        },
        "id": "c2435321",
        "outputId": "446c6f70-5062-4097-9f7f-b9bc167fd5e2"
      },
      "outputs": [
        {
          "data": {
            "text/plain": [
              "True"
            ]
          },
          "execution_count": 10,
          "metadata": {},
          "output_type": "execute_result"
        }
      ],
      "source": [
        "True"
      ]
    },
    {
      "cell_type": "code",
      "execution_count": null,
      "id": "0733f33b",
      "metadata": {
        "colab": {
          "base_uri": "https://localhost:8080/"
        },
        "id": "0733f33b",
        "outputId": "7c2e800a-8d01-40e9-bcdb-087993e31ae2"
      },
      "outputs": [
        {
          "data": {
            "text/plain": [
              "False"
            ]
          },
          "execution_count": 11,
          "metadata": {},
          "output_type": "execute_result"
        }
      ],
      "source": [
        "False"
      ]
    },
    {
      "cell_type": "code",
      "execution_count": null,
      "id": "2249a1d7",
      "metadata": {
        "colab": {
          "base_uri": "https://localhost:8080/"
        },
        "id": "2249a1d7",
        "outputId": "f9736b4d-61ff-413a-ef6f-e7d2416e0d12"
      },
      "outputs": [
        {
          "data": {
            "text/plain": [
              "bool"
            ]
          },
          "execution_count": 12,
          "metadata": {},
          "output_type": "execute_result"
        }
      ],
      "source": [
        "type(True)"
      ]
    },
    {
      "cell_type": "markdown",
      "id": "5c1c4907",
      "metadata": {
        "id": "5c1c4907"
      },
      "source": [
        "`True` and `False` are reserved keywords in Python (as of Python 3.8 there were 35)\n",
        "\n",
        "Reserved keywords have specific meanings and restrictions on how they should be used.\n",
        "\n",
        "More examples:\n",
        "\n",
        "`False`   \n",
        "`await`\n",
        "`else`\n",
        "`import`   \n",
        "`pass`  \n",
        "`None`   \n",
        "`break`   \n",
        "`except`   \n",
        "`in`   \n",
        "`raise`   \n",
        "`True`   \n",
        "`class`   \n",
        "`finally`   \n",
        "`is`\n",
        "`return`   \n",
        "`and`   \n",
        "`continue`   \n",
        "`for`   \n",
        "`lambda`   \n",
        "`try`   \n",
        "`as`   \n",
        "`def`   \n",
        "`from`   \n",
        "`nonlocal`   \n",
        "`while`   \n",
        "`assert`   \n",
        "`del`   \n",
        "`global`\n",
        "`not`   \n",
        "`with`   \n",
        "`async`   \n",
        "`elif`\t  \n",
        "`if`   \n",
        "`or`   \n",
        "`yield`"
      ]
    },
    {
      "cell_type": "markdown",
      "id": "2f7ae123",
      "metadata": {
        "id": "2f7ae123"
      },
      "source": [
        "# Variables"
      ]
    },
    {
      "cell_type": "markdown",
      "id": "92a9caa8",
      "metadata": {
        "id": "92a9caa8"
      },
      "source": [
        "Data are assigned to **variables** using the assignment **operator** `=`.\n",
        "\n",
        "The variable is always on the **left**, the value assigned to it on the **right**.\n",
        "\n",
        "This is not the same as mathemtical equality.\n",
        "\n",
        "Variables are assigned types **dynamically**.\n",
        "\n",
        "Python figures out what type of data is being set to the variable and implicitly stores that info."
      ]
    },
    {
      "cell_type": "code",
      "execution_count": null,
      "id": "fe148025",
      "metadata": {
        "colab": {
          "base_uri": "https://localhost:8080/"
        },
        "id": "fe148025",
        "outputId": "9359e6a7-9363-437b-8a3e-9c8241943fe0"
      },
      "outputs": [
        {
          "data": {
            "text/plain": [
              "4"
            ]
          },
          "execution_count": 33,
          "metadata": {},
          "output_type": "execute_result"
        }
      ],
      "source": [
        "# variable name = assigned value\n",
        "\n",
        "x = 4\n",
        "x"
      ]
    },
    {
      "cell_type": "code",
      "execution_count": null,
      "id": "62a4d6d9",
      "metadata": {
        "colab": {
          "base_uri": "https://localhost:8080/"
        },
        "id": "62a4d6d9",
        "outputId": "3a166384-c55f-412b-c20f-8b028920d59e"
      },
      "outputs": [
        {
          "data": {
            "text/plain": [
              "125"
            ]
          },
          "execution_count": 31,
          "metadata": {},
          "output_type": "execute_result"
        }
      ],
      "source": [
        "y = 100 + 25\n",
        "y"
      ]
    },
    {
      "cell_type": "code",
      "execution_count": null,
      "id": "ec0ca490",
      "metadata": {
        "colab": {
          "base_uri": "https://localhost:8080/"
        },
        "id": "ec0ca490",
        "outputId": "5ec7c986-be33-4bf2-dad6-b0f43ba244d6"
      },
      "outputs": [
        {
          "data": {
            "text/plain": [
              "4"
            ]
          },
          "execution_count": 34,
          "metadata": {},
          "output_type": "execute_result"
        }
      ],
      "source": [
        "# can type variable to get value\n",
        "x"
      ]
    },
    {
      "cell_type": "code",
      "execution_count": null,
      "id": "bfb5dda2",
      "metadata": {
        "colab": {
          "base_uri": "https://localhost:8080/"
        },
        "id": "bfb5dda2",
        "outputId": "7e96bf5d-d1a0-4c58-f004-3852cd158b57"
      },
      "outputs": [
        {
          "name": "stdout",
          "output_type": "stream",
          "text": [
            "6\n"
          ]
        }
      ],
      "source": [
        "# can use print() function to view assigned value\n",
        "# the print() function has a lot of uses and will be discussed later\n",
        "\n",
        "print(x)"
      ]
    },
    {
      "cell_type": "code",
      "execution_count": null,
      "id": "256e6b1c",
      "metadata": {
        "colab": {
          "base_uri": "https://localhost:8080/"
        },
        "id": "256e6b1c",
        "outputId": "03a27319-9af6-4cf4-fb86-2f72fd90ea2a"
      },
      "outputs": [
        {
          "data": {
            "text/plain": [
              "5"
            ]
          },
          "execution_count": 27,
          "metadata": {},
          "output_type": "execute_result"
        }
      ],
      "source": [
        "# reassign variable\n",
        "x = 5\n",
        "\n",
        "x"
      ]
    },
    {
      "cell_type": "code",
      "execution_count": null,
      "id": "358db343",
      "metadata": {
        "colab": {
          "base_uri": "https://localhost:8080/"
        },
        "id": "358db343",
        "outputId": "261b9b3b-ecf5-4ee0-ec7d-51f1710fe767"
      },
      "outputs": [
        {
          "data": {
            "text/plain": [
              "9"
            ]
          },
          "execution_count": 22,
          "metadata": {},
          "output_type": "execute_result"
        }
      ],
      "source": [
        "# variable arithmetic\n",
        "\n",
        "x + y"
      ]
    },
    {
      "cell_type": "code",
      "execution_count": null,
      "id": "2f439542",
      "metadata": {
        "id": "2f439542"
      },
      "outputs": [],
      "source": [
        "# variables of other data types\n",
        "\n",
        "float_var = 4.22\n",
        "string_var = 'virginia'\n",
        "bool_var = True"
      ]
    },
    {
      "cell_type": "code",
      "execution_count": null,
      "id": "c7450065",
      "metadata": {
        "colab": {
          "base_uri": "https://localhost:8080/"
        },
        "id": "c7450065",
        "outputId": "1419a7ae-5fff-4e19-894c-b4c5ee2d0b65"
      },
      "outputs": [
        {
          "data": {
            "text/plain": [
              "float"
            ]
          },
          "execution_count": 25,
          "metadata": {},
          "output_type": "execute_result"
        }
      ],
      "source": [
        "type(float_var) # gives you type of data variable is holding"
      ]
    },
    {
      "cell_type": "code",
      "execution_count": null,
      "id": "2a29aba5",
      "metadata": {
        "id": "2a29aba5"
      },
      "outputs": [],
      "source": [
        "# delete a variable with function del()\n",
        "x\n",
        "del(x)\n",
        "\n"
      ]
    },
    {
      "cell_type": "code",
      "execution_count": null,
      "id": "Sy8XNQfxVynk",
      "metadata": {
        "colab": {
          "base_uri": "https://localhost:8080/",
          "height": 174
        },
        "id": "Sy8XNQfxVynk",
        "outputId": "219c5af3-49fc-4124-b59a-67f82deef6f0"
      },
      "outputs": [
        {
          "ename": "NameError",
          "evalue": "ignored",
          "output_type": "error",
          "traceback": [
            "\u001b[0;31m---------------------------------------------------------------------------\u001b[0m",
            "\u001b[0;31mNameError\u001b[0m                                 Traceback (most recent call last)",
            "\u001b[0;32m<ipython-input-37-6fcf9dfbd479>\u001b[0m in \u001b[0;36m<cell line: 1>\u001b[0;34m()\u001b[0m\n\u001b[0;32m----> 1\u001b[0;31m \u001b[0mx\u001b[0m\u001b[0;34m\u001b[0m\u001b[0;34m\u001b[0m\u001b[0m\n\u001b[0m",
            "\u001b[0;31mNameError\u001b[0m: name 'x' is not defined"
          ]
        }
      ],
      "source": [
        "x"
      ]
    },
    {
      "cell_type": "markdown",
      "id": "19014be8",
      "metadata": {
        "id": "19014be8"
      },
      "source": [
        "## Variable Names\n",
        "\n",
        "A variable can have a short name (like x and y) or a more descriptive name (age, subject_id, total_volume).\n",
        "\n",
        "Rules for Python variables:\n",
        "\n",
        "* A variable name must start with a letter or the underscore character\n",
        "* A variable name cannot start with a number\n",
        "* A variable name can only contain alpha-numeric characters and underscores (A-z, 0-9, and _ )\n",
        "* Variable names are case-sensitive (age, Age and AGE are three different variables)\n"
      ]
    },
    {
      "cell_type": "markdown",
      "id": "df67456e",
      "metadata": {
        "id": "df67456e"
      },
      "source": [
        "## Object ID\n",
        "\n",
        "Every variable created in Python is given a unique ID.\n",
        "\n",
        "This ID where the variable is stored in memory. The ID is for the variable, not the variable's value.\n",
        "\n",
        "> Exception: if the number is between -5 - 256 or a simple string with no spaces, it will not be given a unique id for memory optimization purposes\n",
        "\n",
        "We can find an object's ID using `id()`"
      ]
    },
    {
      "cell_type": "code",
      "execution_count": null,
      "id": "a2e0fa0b",
      "metadata": {
        "id": "a2e0fa0b"
      },
      "outputs": [],
      "source": [
        "a = 278"
      ]
    },
    {
      "cell_type": "code",
      "execution_count": null,
      "id": "015e463c",
      "metadata": {
        "id": "015e463c"
      },
      "outputs": [],
      "source": [
        "b = 278"
      ]
    },
    {
      "cell_type": "code",
      "execution_count": null,
      "id": "98300a13",
      "metadata": {
        "colab": {
          "base_uri": "https://localhost:8080/"
        },
        "id": "98300a13",
        "outputId": "5cd27e8c-06de-4606-a337-4a782ff36aae"
      },
      "outputs": [
        {
          "name": "stdout",
          "output_type": "stream",
          "text": [
            "134102663785136\n",
            "134102663785040\n"
          ]
        }
      ],
      "source": [
        "print(id(a))\n",
        "print(id(b))"
      ]
    },
    {
      "cell_type": "code",
      "execution_count": null,
      "id": "A_VRj3X3WKfS",
      "metadata": {
        "colab": {
          "base_uri": "https://localhost:8080/"
        },
        "id": "A_VRj3X3WKfS",
        "outputId": "5ca631e1-a27a-4cba-9d82-658e865d96d4"
      },
      "outputs": [
        {
          "name": "stdout",
          "output_type": "stream",
          "text": [
            "134103091986704\n"
          ]
        }
      ],
      "source": [
        "a = 2\n",
        "print(id(a))"
      ]
    },
    {
      "cell_type": "code",
      "execution_count": null,
      "id": "5608f8f6",
      "metadata": {
        "colab": {
          "base_uri": "https://localhost:8080/"
        },
        "id": "5608f8f6",
        "outputId": "d350b453-f423-44a5-fc76-dd433e72a880"
      },
      "outputs": [
        {
          "data": {
            "text/plain": [
              "True"
            ]
          },
          "execution_count": 45,
          "metadata": {},
          "output_type": "execute_result"
        }
      ],
      "source": [
        "a == b # 2 = 2"
      ]
    },
    {
      "cell_type": "code",
      "execution_count": null,
      "id": "7509da98",
      "metadata": {
        "colab": {
          "base_uri": "https://localhost:8080/"
        },
        "id": "7509da98",
        "outputId": "f769e1b6-c0c0-4a45-ea38-a7c10a46bfe7"
      },
      "outputs": [
        {
          "data": {
            "text/plain": [
              "False"
            ]
          },
          "execution_count": 46,
          "metadata": {},
          "output_type": "execute_result"
        }
      ],
      "source": [
        "id(a) == id(b)"
      ]
    },
    {
      "cell_type": "markdown",
      "id": "c2b08e1b",
      "metadata": {
        "id": "c2b08e1b"
      },
      "source": [
        "## Converting Data Types\n",
        "\n",
        "When needed you can 'cast' a variable as a different string type (remember Python automatically assigns data type to a variable).\n",
        "\n",
        "We do this through casting functions:"
      ]
    },
    {
      "cell_type": "markdown",
      "id": "dbb0c35f",
      "metadata": {
        "id": "dbb0c35f"
      },
      "source": [
        "**`int()`**"
      ]
    },
    {
      "cell_type": "code",
      "execution_count": null,
      "id": "39b9e5f5",
      "metadata": {
        "colab": {
          "base_uri": "https://localhost:8080/"
        },
        "id": "39b9e5f5",
        "outputId": "465ad62e-a7a1-43bb-a9f6-19be9ea9d9a5"
      },
      "outputs": [
        {
          "data": {
            "text/plain": [
              "float"
            ]
          },
          "execution_count": 47,
          "metadata": {},
          "output_type": "execute_result"
        }
      ],
      "source": [
        "# create float variable\n",
        "var_float = 9.6\n",
        "type(var_float)"
      ]
    },
    {
      "cell_type": "code",
      "execution_count": null,
      "id": "b6440326",
      "metadata": {
        "colab": {
          "base_uri": "https://localhost:8080/"
        },
        "id": "b6440326",
        "outputId": "f18ff671-2d0e-4995-b2e9-0b021f4d782b"
      },
      "outputs": [
        {
          "name": "stdout",
          "output_type": "stream",
          "text": [
            "<class 'int'>\n"
          ]
        },
        {
          "data": {
            "text/plain": [
              "9"
            ]
          },
          "execution_count": 48,
          "metadata": {},
          "output_type": "execute_result"
        }
      ],
      "source": [
        "# cast float to integer\n",
        "var_int = int(var_float)\n",
        "\n",
        "print(type(var_int))\n",
        "var_int"
      ]
    },
    {
      "cell_type": "markdown",
      "id": "7765a689",
      "metadata": {
        "id": "7765a689"
      },
      "source": [
        "**`float()`**"
      ]
    },
    {
      "cell_type": "code",
      "execution_count": null,
      "id": "b052299d",
      "metadata": {
        "colab": {
          "base_uri": "https://localhost:8080/"
        },
        "id": "b052299d",
        "outputId": "0f6d0be3-5343-4106-e0e0-17cc019b71a6"
      },
      "outputs": [
        {
          "data": {
            "text/plain": [
              "str"
            ]
          },
          "execution_count": 49,
          "metadata": {},
          "output_type": "execute_result"
        }
      ],
      "source": [
        "# create string variable\n",
        "var_str = '10.2'\n",
        "type(var_str)"
      ]
    },
    {
      "cell_type": "code",
      "execution_count": null,
      "id": "3c617d79",
      "metadata": {
        "colab": {
          "base_uri": "https://localhost:8080/"
        },
        "id": "3c617d79",
        "outputId": "5823c572-cdec-42ff-a24a-07f80d82ad61"
      },
      "outputs": [
        {
          "name": "stdout",
          "output_type": "stream",
          "text": [
            "<class 'float'>\n",
            "10.2\n"
          ]
        }
      ],
      "source": [
        "# cast string to float\n",
        "var_float = float(var_str)\n",
        "print(type(var_float))\n",
        "print(var_float)"
      ]
    },
    {
      "cell_type": "markdown",
      "id": "a39bd925",
      "metadata": {
        "id": "a39bd925"
      },
      "source": [
        "# Operators\n",
        "\n",
        "If variables are **nouns**, and values **meanings**, then operators are **verbs**.\n",
        "\n",
        "In effect, they are **elementary functions** that are expressed in sequential syntax.\n",
        "\n",
        "**Each data type is associated with a set of operators** that allow you to manipulate the data in way that makes sense for its type. Numeric data types are subject to mathematical operations, booleans to logical ones, and so forth.\n",
        "\n",
        "There are also **operations appropriate to structures**. For example, list-like things have membership.\n",
        "\n",
        "The relationship between types and operators is a microcosm of the relationship betweed data structures and algorithms. **Data structures imply algorithms and algorithms assume data structures.**\n",
        "\n",
        "The w3schools site has [a good summary](https://www.w3schools.com/python/python_operators.asp).\n"
      ]
    },
    {
      "cell_type": "markdown",
      "id": "62f47df4",
      "metadata": {
        "id": "62f47df4"
      },
      "source": [
        "## Numeric Operators"
      ]
    },
    {
      "cell_type": "markdown",
      "id": "36321606",
      "metadata": {
        "id": "36321606"
      },
      "source": [
        "Common: `+`, `-`, `*`, `/`\n",
        "\n",
        "\n",
        "\n",
        "Other operators:"
      ]
    },
    {
      "cell_type": "markdown",
      "id": "19c15a61",
      "metadata": {
        "id": "19c15a61"
      },
      "source": [
        "**floor division `//`**\n",
        "\n",
        "returns the largest integer less than or equal to the result"
      ]
    },
    {
      "cell_type": "code",
      "execution_count": null,
      "id": "b2746f37",
      "metadata": {
        "id": "b2746f37"
      },
      "outputs": [],
      "source": [
        "5 // 2"
      ]
    },
    {
      "cell_type": "code",
      "execution_count": null,
      "id": "54cd2cde",
      "metadata": {
        "id": "54cd2cde"
      },
      "outputs": [],
      "source": [
        "-5 // 2"
      ]
    },
    {
      "cell_type": "markdown",
      "id": "f760f61f",
      "metadata": {
        "id": "f760f61f"
      },
      "source": [
        "**modulus `%`**\n",
        "\n",
        "returns the remainder"
      ]
    },
    {
      "cell_type": "code",
      "execution_count": null,
      "id": "883ab576",
      "metadata": {
        "id": "883ab576"
      },
      "outputs": [],
      "source": [
        "5 % 2"
      ]
    },
    {
      "cell_type": "code",
      "execution_count": null,
      "id": "5cd863fc",
      "metadata": {
        "id": "5cd863fc"
      },
      "outputs": [],
      "source": [
        "print(5.5 / 2)\n",
        "print(5.5 // 2)\n",
        "print(5.5 % 2)"
      ]
    },
    {
      "cell_type": "markdown",
      "id": "f7b812d1",
      "metadata": {
        "id": "f7b812d1"
      },
      "source": [
        "**exponentiation `**` **"
      ]
    },
    {
      "cell_type": "code",
      "execution_count": null,
      "id": "65646db4",
      "metadata": {
        "id": "65646db4"
      },
      "outputs": [],
      "source": [
        "5**2"
      ]
    },
    {
      "cell_type": "markdown",
      "id": "d4e24480",
      "metadata": {
        "id": "d4e24480"
      },
      "source": [
        "## String Operators"
      ]
    },
    {
      "cell_type": "markdown",
      "id": "beddac76",
      "metadata": {
        "id": "beddac76"
      },
      "source": [
        "**concatenation `+`**"
      ]
    },
    {
      "cell_type": "code",
      "execution_count": null,
      "id": "1b8c472f",
      "metadata": {
        "colab": {
          "base_uri": "https://localhost:8080/",
          "height": 35
        },
        "id": "1b8c472f",
        "outputId": "4e71fa15-767c-481f-9e65-7488348fff4d"
      },
      "outputs": [
        {
          "data": {
            "application/vnd.google.colaboratory.intrinsic+json": {
              "type": "string"
            },
            "text/plain": [
              "'Hello world!Goodbye world!'"
            ]
          },
          "execution_count": 60,
          "metadata": {},
          "output_type": "execute_result"
        }
      ],
      "source": [
        "string1 = 'Hello world!'\n",
        "string2 = 'Goodbye world!'\n",
        "\n",
        "string1 + string2"
      ]
    },
    {
      "cell_type": "code",
      "execution_count": null,
      "id": "6d02ece1",
      "metadata": {
        "id": "6d02ece1"
      },
      "outputs": [],
      "source": [
        "string1 + string2 + ' Hello again!'"
      ]
    },
    {
      "cell_type": "code",
      "execution_count": null,
      "id": "ffb4dd10",
      "metadata": {
        "id": "ffb4dd10"
      },
      "outputs": [],
      "source": [
        "print(string1 + string2 + ' Hello again!')"
      ]
    },
    {
      "cell_type": "markdown",
      "id": "e65c547f",
      "metadata": {
        "id": "e65c547f"
      },
      "source": [
        "**repetition `*`**"
      ]
    },
    {
      "cell_type": "code",
      "execution_count": null,
      "id": "c7f6ce3c",
      "metadata": {
        "colab": {
          "base_uri": "https://localhost:8080/"
        },
        "id": "c7f6ce3c",
        "outputId": "5c142de0-e25e-4f6e-f9c0-878c47c428b7"
      },
      "outputs": [
        {
          "data": {
            "text/plain": [
              "8"
            ]
          },
          "execution_count": 59,
          "metadata": {},
          "output_type": "execute_result"
        }
      ],
      "source": [
        "string1 * 2"
      ]
    },
    {
      "cell_type": "code",
      "execution_count": null,
      "id": "b489cdeb",
      "metadata": {
        "id": "b489cdeb"
      },
      "outputs": [],
      "source": [
        "# '\\n' moves to the next line (like hitting the return button)\n",
        "print((string1 + '\\n') * 5)"
      ]
    },
    {
      "cell_type": "markdown",
      "id": "1eb2f0fb",
      "metadata": {
        "id": "1eb2f0fb"
      },
      "source": [
        "**subsetting a string**"
      ]
    },
    {
      "cell_type": "code",
      "execution_count": null,
      "id": "f920bead",
      "metadata": {
        "colab": {
          "base_uri": "https://localhost:8080/",
          "height": 35
        },
        "id": "f920bead",
        "outputId": "7cdbbde1-4917-457e-94fa-0cceb5e6d131"
      },
      "outputs": [
        {
          "data": {
            "application/vnd.google.colaboratory.intrinsic+json": {
              "type": "string"
            },
            "text/plain": [
              "'He'"
            ]
          },
          "execution_count": 61,
          "metadata": {},
          "output_type": "execute_result"
        }
      ],
      "source": [
        "# extract the first 2 characters\n",
        "string1[:2]"
      ]
    },
    {
      "cell_type": "code",
      "execution_count": null,
      "id": "02395bc2",
      "metadata": {
        "colab": {
          "base_uri": "https://localhost:8080/",
          "height": 35
        },
        "id": "02395bc2",
        "outputId": "109b6653-318f-4355-db12-a01e182ecc1e"
      },
      "outputs": [
        {
          "data": {
            "application/vnd.google.colaboratory.intrinsic+json": {
              "type": "string"
            },
            "text/plain": [
              "'d!'"
            ]
          },
          "execution_count": 62,
          "metadata": {},
          "output_type": "execute_result"
        }
      ],
      "source": [
        "# extract the last 2 characters\n",
        "string1[-2:]"
      ]
    },
    {
      "cell_type": "code",
      "execution_count": null,
      "id": "11b5f9fe",
      "metadata": {
        "colab": {
          "base_uri": "https://localhost:8080/",
          "height": 191
        },
        "id": "11b5f9fe",
        "outputId": "c2c0941a-98d5-4df5-b42c-a75c02280cb4"
      },
      "outputs": [
        {
          "ename": "TypeError",
          "evalue": "ignored",
          "output_type": "error",
          "traceback": [
            "\u001b[0;31m---------------------------------------------------------------------------\u001b[0m",
            "\u001b[0;31mTypeError\u001b[0m                                 Traceback (most recent call last)",
            "\u001b[0;32m<ipython-input-63-f8d688ebbb3d>\u001b[0m in \u001b[0;36m<cell line: 2>\u001b[0;34m()\u001b[0m\n\u001b[1;32m      1\u001b[0m \u001b[0;31m# string1 = 4\u001b[0m\u001b[0;34m\u001b[0m\u001b[0;34m\u001b[0m\u001b[0m\n\u001b[0;32m----> 2\u001b[0;31m \u001b[0mstring1\u001b[0m\u001b[0;34m.\u001b[0m\u001b[0mstartswith\u001b[0m\u001b[0;34m(\u001b[0m\u001b[0;34m)\u001b[0m\u001b[0;34m\u001b[0m\u001b[0;34m\u001b[0m\u001b[0m\n\u001b[0m",
            "\u001b[0;31mTypeError\u001b[0m: startswith() takes at least 1 argument (0 given)"
          ]
        }
      ],
      "source": [
        "# string1 = 4\n",
        "string1.startswith('o')"
      ]
    },
    {
      "cell_type": "code",
      "execution_count": null,
      "id": "bfe6abad",
      "metadata": {
        "colab": {
          "base_uri": "https://localhost:8080/"
        },
        "id": "bfe6abad",
        "outputId": "78d39d23-567c-450f-ef02-0b166d49b226"
      },
      "outputs": [
        {
          "data": {
            "text/plain": [
              "True"
            ]
          },
          "execution_count": 64,
          "metadata": {},
          "output_type": "execute_result"
        }
      ],
      "source": [
        "string1.endswith('!')"
      ]
    },
    {
      "cell_type": "markdown",
      "id": "2b532933",
      "metadata": {
        "id": "2b532933"
      },
      "source": [
        "**Python strings are *immutable* - cannot reassign elements**"
      ]
    },
    {
      "cell_type": "code",
      "execution_count": null,
      "id": "3eeaf3a4",
      "metadata": {
        "colab": {
          "base_uri": "https://localhost:8080/",
          "height": 35
        },
        "id": "3eeaf3a4",
        "outputId": "1a58ed44-cfd8-49c4-94a2-3f9a9e4f4ba1"
      },
      "outputs": [
        {
          "data": {
            "application/vnd.google.colaboratory.intrinsic+json": {
              "type": "string"
            },
            "text/plain": [
              "'H'"
            ]
          },
          "execution_count": 65,
          "metadata": {},
          "output_type": "execute_result"
        }
      ],
      "source": [
        "string1[0]"
      ]
    },
    {
      "cell_type": "code",
      "execution_count": null,
      "id": "1m1matmGdPYZ",
      "metadata": {
        "colab": {
          "base_uri": "https://localhost:8080/",
          "height": 174
        },
        "id": "1m1matmGdPYZ",
        "outputId": "e1066f44-b157-454e-ea29-a7f5a66d0f45"
      },
      "outputs": [
        {
          "ename": "TypeError",
          "evalue": "ignored",
          "output_type": "error",
          "traceback": [
            "\u001b[0;31m---------------------------------------------------------------------------\u001b[0m",
            "\u001b[0;31mTypeError\u001b[0m                                 Traceback (most recent call last)",
            "\u001b[0;32m<ipython-input-66-c09400585c6a>\u001b[0m in \u001b[0;36m<cell line: 1>\u001b[0;34m()\u001b[0m\n\u001b[0;32m----> 1\u001b[0;31m \u001b[0mstring1\u001b[0m\u001b[0;34m[\u001b[0m\u001b[0;36m0\u001b[0m\u001b[0;34m]\u001b[0m \u001b[0;34m=\u001b[0m \u001b[0;34m\"Y\"\u001b[0m\u001b[0;34m\u001b[0m\u001b[0;34m\u001b[0m\u001b[0m\n\u001b[0m",
            "\u001b[0;31mTypeError\u001b[0m: 'str' object does not support item assignment"
          ]
        }
      ],
      "source": [
        "string1[0] = \"Y\""
      ]
    },
    {
      "cell_type": "markdown",
      "id": "74ab041a",
      "metadata": {
        "id": "74ab041a"
      },
      "source": [
        "## Comparison Operators\n",
        "\n",
        "comparisons are questions and return boolean values"
      ]
    },
    {
      "cell_type": "markdown",
      "id": "223926d9",
      "metadata": {
        "id": "223926d9"
      },
      "source": [
        "**equality `==`**"
      ]
    },
    {
      "cell_type": "code",
      "execution_count": null,
      "id": "238eba4f",
      "metadata": {
        "colab": {
          "base_uri": "https://localhost:8080/"
        },
        "id": "238eba4f",
        "outputId": "f3b0b839-f233-49d0-befa-fb64697d3dc8"
      },
      "outputs": [
        {
          "data": {
            "text/plain": [
              "True"
            ]
          },
          "execution_count": 67,
          "metadata": {},
          "output_type": "execute_result"
        }
      ],
      "source": [
        "# numeric\n",
        "25 == 4**2 + 9"
      ]
    },
    {
      "cell_type": "code",
      "execution_count": null,
      "id": "bebcc082",
      "metadata": {
        "colab": {
          "base_uri": "https://localhost:8080/"
        },
        "id": "bebcc082",
        "outputId": "9cb3f148-aaef-41df-a5cb-554191428a70"
      },
      "outputs": [
        {
          "data": {
            "text/plain": [
              "False"
            ]
          },
          "execution_count": 68,
          "metadata": {},
          "output_type": "execute_result"
        }
      ],
      "source": [
        "# string\n",
        "string1 == string2"
      ]
    },
    {
      "cell_type": "markdown",
      "id": "bd41f67a",
      "metadata": {
        "id": "bd41f67a"
      },
      "source": [
        "**inequality `!=`**"
      ]
    },
    {
      "cell_type": "code",
      "execution_count": null,
      "id": "3f493f41",
      "metadata": {
        "colab": {
          "base_uri": "https://localhost:8080/"
        },
        "id": "3f493f41",
        "outputId": "275342f1-6ddc-4eed-d09f-e31d3c90e44c"
      },
      "outputs": [
        {
          "data": {
            "text/plain": [
              "True"
            ]
          },
          "execution_count": 69,
          "metadata": {},
          "output_type": "execute_result"
        }
      ],
      "source": [
        "# numeric\n",
        "25 != 20 + 6"
      ]
    },
    {
      "cell_type": "code",
      "execution_count": null,
      "id": "d3dcab60",
      "metadata": {
        "colab": {
          "base_uri": "https://localhost:8080/"
        },
        "id": "d3dcab60",
        "outputId": "8320f3a6-4ca5-4bce-b33d-99fd1710ae0c"
      },
      "outputs": [
        {
          "data": {
            "text/plain": [
              "True"
            ]
          },
          "execution_count": 70,
          "metadata": {},
          "output_type": "execute_result"
        }
      ],
      "source": [
        "# string\n",
        "string1 != string2"
      ]
    },
    {
      "cell_type": "markdown",
      "id": "85b81fc4",
      "metadata": {
        "id": "85b81fc4"
      },
      "source": [
        "**greater than `>`, less than `<`**"
      ]
    },
    {
      "cell_type": "code",
      "execution_count": null,
      "id": "66ae66a2",
      "metadata": {
        "colab": {
          "base_uri": "https://localhost:8080/"
        },
        "id": "66ae66a2",
        "outputId": "df2e3c73-af21-450c-82a4-9a7de2119a22"
      },
      "outputs": [
        {
          "data": {
            "text/plain": [
              "True"
            ]
          },
          "execution_count": 71,
          "metadata": {},
          "output_type": "execute_result"
        }
      ],
      "source": [
        "20 > 10"
      ]
    },
    {
      "cell_type": "code",
      "execution_count": null,
      "id": "cbc90b9f",
      "metadata": {
        "colab": {
          "base_uri": "https://localhost:8080/"
        },
        "id": "cbc90b9f",
        "outputId": "70cca1ca-edde-4bea-bf7d-ebcd45e9c45f"
      },
      "outputs": [
        {
          "data": {
            "text/plain": [
              "True"
            ]
          },
          "execution_count": 72,
          "metadata": {},
          "output_type": "execute_result"
        }
      ],
      "source": [
        "2*10 >= 20"
      ]
    },
    {
      "cell_type": "code",
      "execution_count": null,
      "id": "c9dc02ef",
      "metadata": {
        "colab": {
          "base_uri": "https://localhost:8080/"
        },
        "id": "c9dc02ef",
        "outputId": "200d3d30-c84d-41a4-854a-a8aa3b196a99"
      },
      "outputs": [
        {
          "data": {
            "text/plain": [
              "True"
            ]
          },
          "execution_count": 73,
          "metadata": {},
          "output_type": "execute_result"
        }
      ],
      "source": [
        "3%2 < 5"
      ]
    },
    {
      "cell_type": "code",
      "execution_count": null,
      "id": "822d153c",
      "metadata": {
        "id": "822d153c"
      },
      "outputs": [],
      "source": [
        "-3 <= 0"
      ]
    },
    {
      "cell_type": "markdown",
      "id": "_dsNtmliey8x",
      "metadata": {
        "id": "_dsNtmliey8x"
      },
      "source": [
        "Does it work on strings?"
      ]
    },
    {
      "cell_type": "code",
      "execution_count": null,
      "id": "TI9MyZOodls3",
      "metadata": {
        "colab": {
          "base_uri": "https://localhost:8080/"
        },
        "id": "TI9MyZOodls3",
        "outputId": "3f5e6500-f8d8-4121-9c76-7ecc42f86241"
      },
      "outputs": [
        {
          "data": {
            "text/plain": [
              "True"
            ]
          },
          "execution_count": 91,
          "metadata": {},
          "output_type": "execute_result"
        }
      ],
      "source": [
        "string1 < string2"
      ]
    },
    {
      "cell_type": "markdown",
      "id": "b85zJLHie3mX",
      "metadata": {
        "id": "b85zJLHie3mX"
      },
      "source": [
        "Wait.... what does it  mean?"
      ]
    },
    {
      "cell_type": "markdown",
      "id": "6bc15d1a",
      "metadata": {
        "id": "6bc15d1a"
      },
      "source": [
        "## Logical Operators"
      ]
    },
    {
      "cell_type": "markdown",
      "id": "0852b502",
      "metadata": {
        "id": "0852b502"
      },
      "source": [
        "**conjunctions `and`, `or`, `not`**\n",
        "\n",
        "Note the we group comparisons with parentheses"
      ]
    },
    {
      "cell_type": "code",
      "execution_count": null,
      "id": "94c739af",
      "metadata": {
        "colab": {
          "base_uri": "https://localhost:8080/"
        },
        "id": "94c739af",
        "outputId": "876c5e7d-eba0-41ba-9536-d07b29a515c2"
      },
      "outputs": [
        {
          "data": {
            "text/plain": [
              "True"
            ]
          },
          "execution_count": 92,
          "metadata": {},
          "output_type": "execute_result"
        }
      ],
      "source": [
        "x = 10\n",
        "\n",
        "(x % 10 == 0) or (x < -1)"
      ]
    },
    {
      "cell_type": "code",
      "execution_count": null,
      "id": "c965353f",
      "metadata": {
        "colab": {
          "base_uri": "https://localhost:8080/"
        },
        "id": "c965353f",
        "outputId": "4263dbf1-369c-41d1-c0e9-9d570889b9dd"
      },
      "outputs": [
        {
          "data": {
            "text/plain": [
              "False"
            ]
          },
          "execution_count": 93,
          "metadata": {},
          "output_type": "execute_result"
        }
      ],
      "source": [
        "(x % 10 == 0) and (x < -1)"
      ]
    },
    {
      "cell_type": "code",
      "execution_count": null,
      "id": "0a5c8923",
      "metadata": {
        "colab": {
          "base_uri": "https://localhost:8080/"
        },
        "id": "0a5c8923",
        "outputId": "ba470b7f-ce62-4578-8981-8d0c5ec31a35"
      },
      "outputs": [
        {
          "data": {
            "text/plain": [
              "True"
            ]
          },
          "execution_count": 94,
          "metadata": {},
          "output_type": "execute_result"
        }
      ],
      "source": [
        "not x == 5"
      ]
    },
    {
      "cell_type": "markdown",
      "id": "2b2c6385",
      "metadata": {
        "id": "2b2c6385"
      },
      "source": [
        "**Identity `is`**\n",
        "\n",
        "The `is` keyword is used to test if two variables refer to the same object.\n",
        "\n",
        "The test returns `True` if the two objects are the same object.\n",
        "\n",
        "The test returns False if they are not the same object, even if the two objects are 100% equal.\n",
        "\n",
        "Use the `==` operator to test if two variables are equal.\n",
        "\n",
        "-- from [W3Schools on Identity Operators](https://www.w3schools.com/python/gloss_python_identity_operators.asp)"
      ]
    },
    {
      "cell_type": "code",
      "execution_count": null,
      "id": "1fffb03e",
      "metadata": {
        "id": "1fffb03e"
      },
      "outputs": [],
      "source": [
        "x = ['apple', 'banana']\n",
        "y = ['apple', 'banana']\n",
        "z = x"
      ]
    },
    {
      "cell_type": "code",
      "execution_count": null,
      "id": "7d1c3a7c",
      "metadata": {
        "colab": {
          "base_uri": "https://localhost:8080/"
        },
        "id": "7d1c3a7c",
        "outputId": "c73b68ed-2912-4473-8931-f0947dfaddc8"
      },
      "outputs": [
        {
          "data": {
            "text/plain": [
              "True"
            ]
          },
          "execution_count": 96,
          "metadata": {},
          "output_type": "execute_result"
        }
      ],
      "source": [
        "x is z"
      ]
    },
    {
      "cell_type": "code",
      "execution_count": null,
      "id": "3ad78cc4",
      "metadata": {
        "colab": {
          "base_uri": "https://localhost:8080/"
        },
        "id": "3ad78cc4",
        "outputId": "8323e741-5438-436b-ed9a-ff9603709547"
      },
      "outputs": [
        {
          "data": {
            "text/plain": [
              "False"
            ]
          },
          "execution_count": 97,
          "metadata": {},
          "output_type": "execute_result"
        }
      ],
      "source": [
        "x is y"
      ]
    },
    {
      "cell_type": "code",
      "execution_count": null,
      "id": "98ea6ee2",
      "metadata": {
        "colab": {
          "base_uri": "https://localhost:8080/"
        },
        "id": "98ea6ee2",
        "outputId": "b4a7e8e2-21cd-4b8a-d2a9-51b92942198e"
      },
      "outputs": [
        {
          "data": {
            "text/plain": [
              "True"
            ]
          },
          "execution_count": 98,
          "metadata": {},
          "output_type": "execute_result"
        }
      ],
      "source": [
        "x == y"
      ]
    },
    {
      "cell_type": "code",
      "execution_count": null,
      "id": "c652f2de",
      "metadata": {
        "colab": {
          "base_uri": "https://localhost:8080/"
        },
        "id": "c652f2de",
        "outputId": "84c0fbbf-b91b-498c-c604-1b80aa0653d4"
      },
      "outputs": [
        {
          "data": {
            "text/plain": [
              "True"
            ]
          },
          "execution_count": 99,
          "metadata": {},
          "output_type": "execute_result"
        }
      ],
      "source": [
        "x == z"
      ]
    },
    {
      "cell_type": "code",
      "execution_count": null,
      "id": "dim8oU6RfRct",
      "metadata": {
        "colab": {
          "base_uri": "https://localhost:8080/"
        },
        "id": "dim8oU6RfRct",
        "outputId": "d287b024-401f-4ff3-961b-8fe11d3540b7"
      },
      "outputs": [
        {
          "name": "stdout",
          "output_type": "stream",
          "text": [
            "134102253379008 134102253379008 134102253375040\n"
          ]
        }
      ],
      "source": [
        "print(id(z),id(x),id(y))"
      ]
    },
    {
      "cell_type": "markdown",
      "id": "S9ZM9X9zf8qN",
      "metadata": {
        "id": "S9ZM9X9zf8qN"
      },
      "source": [
        "Let change the first component of x, and check the impact on z (if any)"
      ]
    },
    {
      "cell_type": "code",
      "execution_count": null,
      "id": "1b-Evm7vfbqi",
      "metadata": {
        "colab": {
          "base_uri": "https://localhost:8080/"
        },
        "id": "1b-Evm7vfbqi",
        "outputId": "32fe89ad-1c06-4888-d409-5ec62e6063f5"
      },
      "outputs": [
        {
          "name": "stdout",
          "output_type": "stream",
          "text": [
            "['orange', 'banana']\n"
          ]
        }
      ],
      "source": [
        "x[0] = 'orange'\n",
        "print(z)"
      ]
    },
    {
      "cell_type": "markdown",
      "id": "QpaZLSVugLdM",
      "metadata": {
        "id": "QpaZLSVugLdM"
      },
      "source": [
        "Has their id's changed?"
      ]
    },
    {
      "cell_type": "code",
      "execution_count": null,
      "id": "72rHQVm_gPdq",
      "metadata": {
        "colab": {
          "base_uri": "https://localhost:8080/"
        },
        "id": "72rHQVm_gPdq",
        "outputId": "4ad5655e-c6b8-45d4-c422-79eac310f367"
      },
      "outputs": [
        {
          "name": "stdout",
          "output_type": "stream",
          "text": [
            "134102253379008 134102253379008 134102253375040\n"
          ]
        }
      ],
      "source": [
        "print(id(z),id(x),id(y))"
      ]
    },
    {
      "cell_type": "markdown",
      "id": "IU_HjF0rgYD4",
      "metadata": {
        "id": "IU_HjF0rgYD4"
      },
      "source": [
        "The id is (seems to be) a pointer to the memory location were the object is stored"
      ]
    },
    {
      "cell_type": "markdown",
      "id": "47f381d0",
      "metadata": {
        "id": "47f381d0"
      },
      "source": [
        "**`isinstance()`**\n",
        "\n",
        "function returns `True` if the specified object is of the specified type, otherwise `False`"
      ]
    },
    {
      "cell_type": "code",
      "execution_count": null,
      "id": "fc6373f1",
      "metadata": {
        "colab": {
          "base_uri": "https://localhost:8080/"
        },
        "id": "fc6373f1",
        "outputId": "9cd746d4-12cc-44f4-9e42-caa3d2797476"
      },
      "outputs": [
        {
          "data": {
            "text/plain": [
              "True"
            ]
          },
          "execution_count": 106,
          "metadata": {},
          "output_type": "execute_result"
        }
      ],
      "source": [
        "#example\n",
        "\n",
        "isinstance(\"Hello\", (float, int, str))"
      ]
    },
    {
      "cell_type": "markdown",
      "id": "cCqNlVF5g1k7",
      "metadata": {
        "id": "cCqNlVF5g1k7"
      },
      "source": [
        "The object (float, int, str) is NOT a list, it is a **tuple**. Lists have [ ]."
      ]
    },
    {
      "cell_type": "code",
      "execution_count": null,
      "id": "ffc578d5",
      "metadata": {
        "colab": {
          "base_uri": "https://localhost:8080/"
        },
        "id": "ffc578d5",
        "outputId": "135ef8b2-8bfe-4f15-cc84-307e1f24745d"
      },
      "outputs": [
        {
          "data": {
            "text/plain": [
              "False"
            ]
          },
          "execution_count": 108,
          "metadata": {},
          "output_type": "execute_result"
        }
      ],
      "source": [
        "#example\n",
        "isinstance(\"Hello\", int)"
      ]
    },
    {
      "cell_type": "markdown",
      "id": "eac52c21",
      "metadata": {
        "id": "eac52c21"
      },
      "source": [
        "## Unary Operators\n",
        "\n",
        "Python offers a short-cut for most operators. When updating a variable with an operation to that variable, such as:\n",
        "```python\n",
        "my_var = my_var + 1  # Incrementing\n",
        "```\n",
        "\n",
        "You can do this:\n",
        "```python\n",
        "my_var += 1\n",
        "```"
      ]
    },
    {
      "cell_type": "code",
      "execution_count": null,
      "id": "bMIFvSa5iMnj",
      "metadata": {
        "colab": {
          "base_uri": "https://localhost:8080/"
        },
        "id": "bMIFvSa5iMnj",
        "outputId": "2abc8954-bf83-484f-9775-d2fd7ad963c2"
      },
      "outputs": [
        {
          "data": {
            "text/plain": [
              "1"
            ]
          },
          "execution_count": 111,
          "metadata": {},
          "output_type": "execute_result"
        }
      ],
      "source": [
        "my_var= 0\n",
        "my_var = my_var + 1  # Incrementing\n",
        "my_var"
      ]
    },
    {
      "cell_type": "markdown",
      "id": "8k_7o-WoiU1y",
      "metadata": {
        "id": "8k_7o-WoiU1y"
      },
      "source": [
        "You can also di this:"
      ]
    },
    {
      "cell_type": "code",
      "execution_count": null,
      "id": "SrYrwfRhiX53",
      "metadata": {
        "colab": {
          "base_uri": "https://localhost:8080/"
        },
        "id": "SrYrwfRhiX53",
        "outputId": "4c3551bc-54c4-4e32-b932-fafb23981a6b"
      },
      "outputs": [
        {
          "data": {
            "text/plain": [
              "5"
            ]
          },
          "execution_count": 115,
          "metadata": {},
          "output_type": "execute_result"
        }
      ],
      "source": [
        "my_var += 1\n",
        "my_var"
      ]
    },
    {
      "cell_type": "markdown",
      "id": "52ffc918",
      "metadata": {
        "id": "52ffc918"
      },
      "source": [
        "Python supports many operators this way. Here are some:\n",
        "```python\n",
        "a -= 2\n",
        "a /= 3\n",
        "a //= 2\n",
        "a %= 4\n",
        "a *= 5\n",
        "a **= 2\n",
        "```\n",
        "more here: https://www.w3schools.com/python/python_operators.asp"
      ]
    },
    {
      "cell_type": "markdown",
      "id": "aa92ce5d",
      "metadata": {
        "id": "aa92ce5d"
      },
      "source": [
        "## Expressions\n",
        "\n",
        "Variables, literal values, and operators are the building blocks of expressions.\n",
        "\n",
        "For example, the following combines three operators and four variables:"
      ]
    },
    {
      "cell_type": "code",
      "execution_count": null,
      "id": "5058a10b",
      "metadata": {
        "colab": {
          "base_uri": "https://localhost:8080/"
        },
        "id": "5058a10b",
        "outputId": "4cfd4ab6-b2e9-4473-ddd3-689729f40807"
      },
      "outputs": [
        {
          "data": {
            "text/plain": [
              "4.0"
            ]
          },
          "execution_count": 116,
          "metadata": {},
          "output_type": "execute_result"
        }
      ],
      "source": [
        "1 + 2 * 3 / 2"
      ]
    },
    {
      "cell_type": "markdown",
      "id": "bb74c18b",
      "metadata": {
        "id": "bb74c18b"
      },
      "source": [
        "Python employs **operator precedence** when evaluating expressions:\n",
        "\n",
        "```\n",
        "P – Parentheses\n",
        "E – Exponentiation\n",
        "M – Multiplication\n",
        "D – Division\n",
        "A – Addition\n",
        "S – Subtraction\n",
        "```"
      ]
    },
    {
      "cell_type": "code",
      "execution_count": null,
      "id": "febc7986",
      "metadata": {
        "id": "febc7986"
      },
      "outputs": [],
      "source": [
        "(1 + 2) * (3 / 2)"
      ]
    },
    {
      "cell_type": "code",
      "execution_count": null,
      "id": "EhGRuvolij5d",
      "metadata": {
        "colab": {
          "base_uri": "https://localhost:8080/"
        },
        "id": "EhGRuvolij5d",
        "outputId": "58072b68-acff-40f9-8545-097230884055"
      },
      "outputs": [
        {
          "data": {
            "text/plain": [
              "3"
            ]
          },
          "execution_count": 118,
          "metadata": {},
          "output_type": "execute_result"
        }
      ],
      "source": [
        "(2 * 2 - 1)"
      ]
    },
    {
      "cell_type": "code",
      "execution_count": null,
      "id": "2kT6mE7Yi0b_",
      "metadata": {
        "colab": {
          "base_uri": "https://localhost:8080/"
        },
        "id": "2kT6mE7Yi0b_",
        "outputId": "f9516b25-c10c-487a-ba03-3267b46ec61a"
      },
      "outputs": [
        {
          "data": {
            "text/plain": [
              "4.5"
            ]
          },
          "execution_count": 119,
          "metadata": {},
          "output_type": "execute_result"
        }
      ],
      "source": [
        "(3 + 1 / 2 + 1)"
      ]
    },
    {
      "cell_type": "markdown",
      "id": "fa23e2ea",
      "metadata": {
        "id": "fa23e2ea"
      },
      "source": [
        "Variables and literal values can be combined:"
      ]
    },
    {
      "cell_type": "code",
      "execution_count": null,
      "id": "775ccb3e",
      "metadata": {
        "id": "775ccb3e"
      },
      "outputs": [],
      "source": [
        "y = 5\n",
        "m = 2.5\n",
        "b = 10"
      ]
    },
    {
      "cell_type": "code",
      "execution_count": null,
      "id": "f249f060",
      "metadata": {
        "colab": {
          "base_uri": "https://localhost:8080/"
        },
        "id": "f249f060",
        "outputId": "8af0339a-4648-4ebf-ea2d-e803577efd4e"
      },
      "outputs": [
        {
          "data": {
            "text/plain": [
              "35.0"
            ]
          },
          "execution_count": 122,
          "metadata": {},
          "output_type": "execute_result"
        }
      ],
      "source": [
        "y = m * 10 + b\n",
        "y"
      ]
    },
    {
      "cell_type": "code",
      "execution_count": null,
      "id": "cd446cc6",
      "metadata": {
        "colab": {
          "base_uri": "https://localhost:8080/"
        },
        "id": "cd446cc6",
        "outputId": "bf5f09d3-56ce-4dbb-ec78-5c7b1d6626f3"
      },
      "outputs": [
        {
          "data": {
            "text/plain": [
              "22.5"
            ]
          },
          "execution_count": 123,
          "metadata": {},
          "output_type": "execute_result"
        }
      ],
      "source": [
        "y = m * 5 + b\n",
        "y"
      ]
    },
    {
      "cell_type": "markdown",
      "id": "fe3afbe8",
      "metadata": {
        "id": "fe3afbe8"
      },
      "source": [
        "Expressions can be very complex.\n",
        "\n",
        "Expressions evaluate to a value, just as single variables do.\n",
        "\n",
        "Therefore, they can be put anywhere a value is accepted."
      ]
    },
    {
      "cell_type": "code",
      "execution_count": null,
      "id": "5ef7fe16",
      "metadata": {
        "colab": {
          "base_uri": "https://localhost:8080/"
        },
        "id": "5ef7fe16",
        "outputId": "ac51cf06-c269-4fe8-e575-e1c8e0724054"
      },
      "outputs": [
        {
          "data": {
            "text/plain": [
              "1244706300354"
            ]
          },
          "execution_count": 124,
          "metadata": {},
          "output_type": "execute_result"
        }
      ],
      "source": [
        "int((y + 10) ** 8)"
      ]
    },
    {
      "cell_type": "code",
      "execution_count": null,
      "id": "8e78bab8-3ae8-4828-b226-e9d2129e074d",
      "metadata": {
        "id": "8e78bab8-3ae8-4828-b226-e9d2129e074d"
      },
      "outputs": [],
      "source": []
    },
    {
      "cell_type": "markdown",
      "id": "e1da9f30-0bd2-40f1-ac41-fbd3d0fe4630",
      "metadata": {
        "id": "e1da9f30-0bd2-40f1-ac41-fbd3d0fe4630"
      },
      "source": [
        "# Built-in Math Functions for Numbers"
      ]
    },
    {
      "cell_type": "markdown",
      "id": "b3fb56c2-2013-4733-a174-95bb33619cdd",
      "metadata": {
        "id": "b3fb56c2-2013-4733-a174-95bb33619cdd"
      },
      "source": [
        "**power `pow()`**"
      ]
    },
    {
      "cell_type": "code",
      "execution_count": null,
      "id": "ea522a7c-e422-469f-8af2-4634f112e4da",
      "metadata": {
        "id": "ea522a7c-e422-469f-8af2-4634f112e4da",
        "outputId": "0921c9e6-dbc5-4cec-cd8b-a3df6e5c8356"
      },
      "outputs": [
        {
          "name": "stdout",
          "output_type": "stream",
          "text": [
            "16\n"
          ]
        }
      ],
      "source": [
        "# 4 raised to 2 = 16\n",
        "print(pow(4,2))"
      ]
    },
    {
      "cell_type": "markdown",
      "id": "86cb886d-316c-4ea0-a09b-a5a319d9ac20",
      "metadata": {
        "id": "86cb886d-316c-4ea0-a09b-a5a319d9ac20"
      },
      "source": [
        "**absolute value `abs()`**"
      ]
    },
    {
      "cell_type": "code",
      "execution_count": null,
      "id": "b587cde4-095b-440c-ae19-39543b93df81",
      "metadata": {
        "id": "b587cde4-095b-440c-ae19-39543b93df81",
        "outputId": "a15ab3d9-86cf-457d-88d0-c6886eb9f3f2"
      },
      "outputs": [
        {
          "name": "stdout",
          "output_type": "stream",
          "text": [
            "2\n"
          ]
        }
      ],
      "source": [
        "# returns 2, the absolute value of its argument\n",
        "print(abs(-2))"
      ]
    },
    {
      "cell_type": "markdown",
      "id": "e3da7879-3102-46b7-8126-501dbe656ff7",
      "metadata": {
        "id": "e3da7879-3102-46b7-8126-501dbe656ff7"
      },
      "source": [
        "**round `round()`**"
      ]
    },
    {
      "cell_type": "code",
      "execution_count": null,
      "id": "59d9973e-ab07-4e69-8497-cf36c4dfc161",
      "metadata": {
        "id": "59d9973e-ab07-4e69-8497-cf36c4dfc161",
        "outputId": "f8224f08-e419-416e-d6b2-8a7b815615a0"
      },
      "outputs": [
        {
          "name": "stdout",
          "output_type": "stream",
          "text": [
            "3\n",
            "1\n"
          ]
        }
      ],
      "source": [
        "# rounds up or down to closest whole number\n",
        "print(round(2.8)) # rounds up to 3.0\n",
        "print(round(1.1)) # rounds down to 1.0"
      ]
    },
    {
      "cell_type": "markdown",
      "id": "4c7cb952-ecab-42f4-9e9a-fe5f7a0801b2",
      "metadata": {
        "id": "4c7cb952-ecab-42f4-9e9a-fe5f7a0801b2",
        "tags": []
      },
      "source": [
        "# Math Library Functions\n",
        "\n",
        "See the Python docs on [the math library](https://docs.python.org/3/library/math.html)."
      ]
    },
    {
      "cell_type": "code",
      "execution_count": null,
      "id": "300ba358-8ef6-4172-8f65-c59b211b1900",
      "metadata": {
        "id": "300ba358-8ef6-4172-8f65-c59b211b1900",
        "tags": []
      },
      "outputs": [],
      "source": [
        "# import dependency\n",
        "import math"
      ]
    },
    {
      "cell_type": "markdown",
      "id": "c35bd998-cfd3-4c91-84cb-b8463d1131ca",
      "metadata": {
        "id": "c35bd998-cfd3-4c91-84cb-b8463d1131ca"
      },
      "source": [
        "**square root `math.sqrt()`**"
      ]
    },
    {
      "cell_type": "code",
      "execution_count": null,
      "id": "432158ec-93b8-465c-97d4-f906e2e1e479",
      "metadata": {
        "id": "432158ec-93b8-465c-97d4-f906e2e1e479",
        "outputId": "c6077429-b1ff-4107-8373-407c29302bef"
      },
      "outputs": [
        {
          "data": {
            "text/plain": [
              "\u001b[0;31mSignature:\u001b[0m \u001b[0mmath\u001b[0m\u001b[0;34m.\u001b[0m\u001b[0msqrt\u001b[0m\u001b[0;34m(\u001b[0m\u001b[0mx\u001b[0m\u001b[0;34m,\u001b[0m \u001b[0;34m/\u001b[0m\u001b[0;34m)\u001b[0m\u001b[0;34m\u001b[0m\u001b[0;34m\u001b[0m\u001b[0m\n",
              "\u001b[0;31mDocstring:\u001b[0m Return the square root of x.\n",
              "\u001b[0;31mType:\u001b[0m      builtin_function_or_method\n"
            ]
          },
          "metadata": {},
          "output_type": "display_data"
        }
      ],
      "source": [
        "# help\n",
        "math.sqrt?"
      ]
    },
    {
      "cell_type": "code",
      "execution_count": null,
      "id": "8306e965-f41a-4753-8143-1ed0fcdb27fa",
      "metadata": {
        "id": "8306e965-f41a-4753-8143-1ed0fcdb27fa",
        "outputId": "426a649a-eb7e-48c3-a855-334a357cc64a"
      },
      "outputs": [
        {
          "name": "stdout",
          "output_type": "stream",
          "text": [
            "3.4641016151377544\n"
          ]
        }
      ],
      "source": [
        "print(math.sqrt(12)) # using the square-root function from the math library"
      ]
    },
    {
      "cell_type": "code",
      "execution_count": null,
      "id": "99aceabc-6465-46a7-bc02-b5528cd7815e",
      "metadata": {
        "id": "99aceabc-6465-46a7-bc02-b5528cd7815e",
        "outputId": "53ff330e-f123-4fea-f426-4cf25bb7fc6a"
      },
      "outputs": [
        {
          "data": {
            "text/plain": [
              "3.46"
            ]
          },
          "execution_count": 11,
          "metadata": {},
          "output_type": "execute_result"
        }
      ],
      "source": [
        "# round answer\n",
        "round(math.sqrt(12), 2)"
      ]
    },
    {
      "cell_type": "markdown",
      "id": "8e8fb99b-0dba-4c33-92ca-16c3bde488a8",
      "metadata": {
        "id": "8e8fb99b-0dba-4c33-92ca-16c3bde488a8"
      },
      "source": [
        "## Formatting\n",
        "\n",
        "**`format()`**"
      ]
    },
    {
      "cell_type": "code",
      "execution_count": null,
      "id": "457d1161-2c12-422f-b7cc-412cd0fc0cd2",
      "metadata": {
        "id": "457d1161-2c12-422f-b7cc-412cd0fc0cd2",
        "outputId": "96735ea1-46b3-4d5c-c96d-111baadc4538"
      },
      "outputs": [
        {
          "name": "stdout",
          "output_type": "stream",
          "text": [
            "3.46\n"
          ]
        }
      ],
      "source": [
        "# round to 2 decimal places within print function\n",
        "print(format(math.sqrt(12), '.2f'))"
      ]
    },
    {
      "cell_type": "code",
      "execution_count": null,
      "id": "233a2b1d-25a0-44ce-8b6d-50675740649c",
      "metadata": {
        "id": "233a2b1d-25a0-44ce-8b6d-50675740649c",
        "outputId": "96d52ed2-57d3-483a-a724-8e58ec3a0b3d"
      },
      "outputs": [
        {
          "name": "stdout",
          "output_type": "stream",
          "text": [
            "This item costs 23.93 dollars\n"
          ]
        }
      ],
      "source": [
        "# another format example\n",
        "txt = 'This item costs {price:.2f} dollars'\n",
        "print(txt.format(price = 23.926))"
      ]
    },
    {
      "cell_type": "code",
      "execution_count": null,
      "id": "0dd55c4e-cb4f-4454-9c26-d80419afbc3b",
      "metadata": {
        "id": "0dd55c4e-cb4f-4454-9c26-d80419afbc3b",
        "outputId": "7fabcbbb-8a88-488e-80c5-112439cf8156"
      },
      "outputs": [
        {
          "name": "stdout",
          "output_type": "stream",
          "text": [
            "This item costs 32.93 dollars\n"
          ]
        }
      ],
      "source": [
        "# Since python 3.9\n",
        "price = 32.926\n",
        "print(f\"This item costs {price:.2f} dollars\")"
      ]
    },
    {
      "cell_type": "markdown",
      "id": "c6763548-3ab3-4018-b578-bf0b21e471da",
      "metadata": {
        "id": "c6763548-3ab3-4018-b578-bf0b21e471da"
      },
      "source": [
        "**`math.floor()`**"
      ]
    },
    {
      "cell_type": "code",
      "execution_count": null,
      "id": "e698b554-35f5-4cc7-b1b4-4e4b850a4a21",
      "metadata": {
        "id": "e698b554-35f5-4cc7-b1b4-4e4b850a4a21",
        "outputId": "ed8a0076-a132-4dbc-e0a7-dc23fa6165f7"
      },
      "outputs": [
        {
          "name": "stdout",
          "output_type": "stream",
          "text": [
            "2\n",
            "2\n",
            "2\n"
          ]
        }
      ],
      "source": [
        "# returns largest whole number less than the argument\n",
        "print(math.floor(2.5))\n",
        "print(math.floor(2.9))\n",
        "print(math.floor(2.1))"
      ]
    },
    {
      "cell_type": "markdown",
      "id": "5170e092-6577-459c-9f6c-9fe2e433fd82",
      "metadata": {
        "id": "5170e092-6577-459c-9f6c-9fe2e433fd82",
        "tags": []
      },
      "source": [
        "**`math.log()`**"
      ]
    },
    {
      "cell_type": "code",
      "execution_count": null,
      "id": "0c7b17b2-ae2b-428a-9f2f-7fe3d4aa8151",
      "metadata": {
        "id": "0c7b17b2-ae2b-428a-9f2f-7fe3d4aa8151",
        "outputId": "1b0fd29f-f159-4839-d5ef-a7ad5b25d119"
      },
      "outputs": [
        {
          "data": {
            "text/plain": [
              "\u001b[0;31mDocstring:\u001b[0m\n",
              "log(x, [base=math.e])\n",
              "Return the logarithm of x to the given base.\n",
              "\n",
              "If the base not specified, returns the natural logarithm (base e) of x.\n",
              "\u001b[0;31mType:\u001b[0m      builtin_function_or_method\n"
            ]
          },
          "metadata": {},
          "output_type": "display_data"
        }
      ],
      "source": [
        "math.log?"
      ]
    },
    {
      "cell_type": "code",
      "execution_count": null,
      "id": "f1f66815-2408-477c-b4fb-64618ec44078",
      "metadata": {
        "id": "f1f66815-2408-477c-b4fb-64618ec44078",
        "outputId": "4cb43769-ffc5-432a-e053-bcca46c2617c"
      },
      "outputs": [
        {
          "data": {
            "text/plain": [
              "4.605170185988092"
            ]
          },
          "execution_count": 15,
          "metadata": {},
          "output_type": "execute_result"
        }
      ],
      "source": [
        "# default: natural log, base e\n",
        "math.log(100)"
      ]
    },
    {
      "cell_type": "code",
      "execution_count": null,
      "id": "fec14397-6e07-428e-9a04-f8a175309686",
      "metadata": {
        "id": "fec14397-6e07-428e-9a04-f8a175309686",
        "outputId": "4f9d5580-030c-4a6f-a4ea-e1c7e8b75ff4"
      },
      "outputs": [
        {
          "data": {
            "text/plain": [
              "2.0"
            ]
          },
          "execution_count": 12,
          "metadata": {},
          "output_type": "execute_result"
        }
      ],
      "source": [
        "# log of 100, base 10\n",
        "math.log(100, 10)"
      ]
    },
    {
      "cell_type": "code",
      "execution_count": null,
      "id": "3306ed20-c960-4d6e-a0fa-51bfac0ad8d3",
      "metadata": {
        "id": "3306ed20-c960-4d6e-a0fa-51bfac0ad8d3",
        "outputId": "9da832a2-8f4a-43b2-c9ad-57775192b758"
      },
      "outputs": [
        {
          "data": {
            "text/plain": [
              "8.0"
            ]
          },
          "execution_count": 13,
          "metadata": {},
          "output_type": "execute_result"
        }
      ],
      "source": [
        "# log of 256, base 2\n",
        "math.log(256, 2)"
      ]
    },
    {
      "cell_type": "markdown",
      "id": "5fb72582-7260-4519-8fc9-ecf5513c6a8a",
      "metadata": {
        "id": "5fb72582-7260-4519-8fc9-ecf5513c6a8a"
      },
      "source": [
        "# The Random library\n",
        "\n",
        "See [random — Generate pseudo-random numbers](https://docs.python.org/3/library/random.html) for more info."
      ]
    },
    {
      "cell_type": "code",
      "execution_count": null,
      "id": "bb236d70-d534-41d2-bffa-527331203786",
      "metadata": {
        "id": "bb236d70-d534-41d2-bffa-527331203786"
      },
      "outputs": [],
      "source": [
        "import random as rnd"
      ]
    },
    {
      "cell_type": "markdown",
      "id": "890ef1f4-4f96-4089-b670-6476734bc55d",
      "metadata": {
        "id": "890ef1f4-4f96-4089-b670-6476734bc55d"
      },
      "source": [
        "### `random.random()`"
      ]
    },
    {
      "cell_type": "code",
      "execution_count": null,
      "id": "c9dc1547-f291-4d5c-92f5-460af3e2f547",
      "metadata": {
        "id": "c9dc1547-f291-4d5c-92f5-460af3e2f547",
        "outputId": "ae104fb1-ef8e-4bbb-f461-f9501d42a03d"
      },
      "outputs": [
        {
          "data": {
            "text/plain": [
              "\u001b[0;31mSignature:\u001b[0m \u001b[0mrnd\u001b[0m\u001b[0;34m.\u001b[0m\u001b[0mrandom\u001b[0m\u001b[0;34m(\u001b[0m\u001b[0;34m)\u001b[0m\u001b[0;34m\u001b[0m\u001b[0;34m\u001b[0m\u001b[0m\n",
              "\u001b[0;31mDocstring:\u001b[0m random() -> x in the interval [0, 1).\n",
              "\u001b[0;31mType:\u001b[0m      builtin_function_or_method"
            ]
          },
          "metadata": {},
          "output_type": "display_data"
        }
      ],
      "source": [
        "rnd.random?"
      ]
    },
    {
      "cell_type": "code",
      "execution_count": null,
      "id": "b8c38324-9fa4-4b12-9806-e4445a48d763",
      "metadata": {
        "id": "b8c38324-9fa4-4b12-9806-e4445a48d763",
        "outputId": "f8750334-c311-497e-cfee-c4b388f80b1f"
      },
      "outputs": [
        {
          "name": "stdout",
          "output_type": "stream",
          "text": [
            "0.0025307260724340974\n"
          ]
        }
      ],
      "source": [
        "# using random() function in random library\n",
        "# will return a number between 0 and 1\n",
        "print(rnd.random())"
      ]
    },
    {
      "cell_type": "markdown",
      "id": "e5d97349-2729-43b9-addd-0eb41ae44710",
      "metadata": {
        "id": "e5d97349-2729-43b9-addd-0eb41ae44710",
        "tags": []
      },
      "source": [
        "### `rnd.randint()`"
      ]
    },
    {
      "cell_type": "code",
      "execution_count": null,
      "id": "9396ec22-58f3-4552-b4b9-03bfba2c1a46",
      "metadata": {
        "id": "9396ec22-58f3-4552-b4b9-03bfba2c1a46",
        "outputId": "515396d0-8289-4cbf-f3b1-b9ae170159b9"
      },
      "outputs": [
        {
          "data": {
            "text/plain": [
              "\u001b[0;31mSignature:\u001b[0m \u001b[0mrnd\u001b[0m\u001b[0;34m.\u001b[0m\u001b[0mrandint\u001b[0m\u001b[0;34m(\u001b[0m\u001b[0ma\u001b[0m\u001b[0;34m,\u001b[0m \u001b[0mb\u001b[0m\u001b[0;34m)\u001b[0m\u001b[0;34m\u001b[0m\u001b[0;34m\u001b[0m\u001b[0m\n",
              "\u001b[0;31mDocstring:\u001b[0m\n",
              "Return random integer in range [a, b], including both end points.\n",
              "        \n",
              "\u001b[0;31mFile:\u001b[0m      ~/anaconda3/lib/python3.10/random.py\n",
              "\u001b[0;31mType:\u001b[0m      method"
            ]
          },
          "metadata": {},
          "output_type": "display_data"
        }
      ],
      "source": [
        "rnd.randint?"
      ]
    },
    {
      "cell_type": "code",
      "execution_count": null,
      "id": "5a4e88bd-dc97-4a63-9b9d-acdbb49b28f1",
      "metadata": {
        "id": "5a4e88bd-dc97-4a63-9b9d-acdbb49b28f1",
        "outputId": "63a2e2c4-71c3-40e4-a60d-e432e1c48325"
      },
      "outputs": [
        {
          "name": "stdout",
          "output_type": "stream",
          "text": [
            "5\n"
          ]
        }
      ],
      "source": [
        "# specify a range in the parenthesis\n",
        "# this will return a random integer in the range 1-100\n",
        "print(rnd.randint(1,100))"
      ]
    },
    {
      "cell_type": "markdown",
      "id": "3aba7450-9e7f-4d7f-ae51-f0eff46e52b8",
      "metadata": {
        "id": "3aba7450-9e7f-4d7f-ae51-f0eff46e52b8"
      },
      "source": [
        "# Booleans"
      ]
    },
    {
      "cell_type": "markdown",
      "id": "1de12eaf-cb3b-45f2-b79f-9d04ab193fdd",
      "metadata": {
        "id": "1de12eaf-cb3b-45f2-b79f-9d04ab193fdd"
      },
      "source": [
        "A `boolean` value takes one of `True` or `False`, which are built-in values"
      ]
    },
    {
      "cell_type": "code",
      "execution_count": null,
      "id": "fc9c80f3-4bcc-4067-921e-b80287509c66",
      "metadata": {
        "id": "fc9c80f3-4bcc-4067-921e-b80287509c66",
        "outputId": "faff3f47-9432-47b2-c773-d9304b1b9725"
      },
      "outputs": [
        {
          "name": "stdout",
          "output_type": "stream",
          "text": [
            "Your data is good!\n"
          ]
        }
      ],
      "source": [
        "data = True\n",
        "\n",
        "if data:\n",
        "    print(\"Your data is good!\")"
      ]
    },
    {
      "cell_type": "markdown",
      "id": "e63f2db3-0e07-4caf-be17-154094f1b280",
      "metadata": {
        "id": "e63f2db3-0e07-4caf-be17-154094f1b280"
      },
      "source": [
        "### If / then example"
      ]
    },
    {
      "cell_type": "code",
      "execution_count": null,
      "id": "b1916c2b-8295-4977-9b59-7fe8a97b0051",
      "metadata": {
        "id": "b1916c2b-8295-4977-9b59-7fe8a97b0051",
        "outputId": "7fedc6ed-ebeb-4dd7-b03c-d464955e9ea5"
      },
      "outputs": [
        {
          "name": "stdout",
          "output_type": "stream",
          "text": [
            "plural or singular?\n"
          ]
        }
      ],
      "source": [
        "datum = False\n",
        "\n",
        "if data or datum:\n",
        "    print(\"plural or singular?\")\n",
        "else:\n",
        "    print(\"condition not met\")"
      ]
    },
    {
      "cell_type": "code",
      "execution_count": null,
      "id": "39740e1a-c46a-458b-9adf-39a7127205e0",
      "metadata": {
        "id": "39740e1a-c46a-458b-9adf-39a7127205e0",
        "outputId": "40fc6656-3d1a-463b-f85b-b279007c6915"
      },
      "outputs": [
        {
          "name": "stdout",
          "output_type": "stream",
          "text": [
            "condition not met\n"
          ]
        }
      ],
      "source": [
        "if data and datum:\n",
        "    print(\"plural or singular?\")\n",
        "else:\n",
        "    print(\"condition not met\")"
      ]
    },
    {
      "cell_type": "code",
      "execution_count": null,
      "id": "12c673ab-46c1-4ba8-ac15-e2fd82464b27",
      "metadata": {
        "id": "12c673ab-46c1-4ba8-ac15-e2fd82464b27"
      },
      "outputs": [],
      "source": [
        "if datum and data:\n",
        "    print(\"plural or singular?\")"
      ]
    },
    {
      "cell_type": "markdown",
      "id": "158afe04-57c6-40a2-bf31-0bc01be7fe57",
      "metadata": {
        "id": "158afe04-57c6-40a2-bf31-0bc01be7fe57"
      },
      "source": [
        "AND statements will short circuit if an early condition fails.\n",
        "\n",
        "In this case, since *datum* is False, the check on *data* never happens.\n",
        "\n",
        "(We'll cover if/then statements in detail later on)"
      ]
    },
    {
      "cell_type": "code",
      "execution_count": null,
      "id": "622f5977-466a-4eba-9f04-b2fccafde1a8",
      "metadata": {
        "id": "622f5977-466a-4eba-9f04-b2fccafde1a8"
      },
      "outputs": [],
      "source": []
    },
    {
      "cell_type": "code",
      "execution_count": null,
      "id": "70b7cfd8-1c98-421e-95f5-db85e27ad726",
      "metadata": {
        "id": "70b7cfd8-1c98-421e-95f5-db85e27ad726"
      },
      "outputs": [],
      "source": []
    }
  ],
  "metadata": {
    "colab": {
      "provenance": [],
      "include_colab_link": true
    },
    "kernelspec": {
      "display_name": "Python 3 (ipykernel)",
      "language": "python",
      "name": "python3"
    },
    "language_info": {
      "codemirror_mode": {
        "name": "ipython",
        "version": 3
      },
      "file_extension": ".py",
      "mimetype": "text/x-python",
      "name": "python",
      "nbconvert_exporter": "python",
      "pygments_lexer": "ipython3",
      "version": "3.10.11"
    },
    "vscode": {
      "interpreter": {
        "hash": "256476f871f41dd9f410a4535ba940f788da543573a25285757e797fedf9c871"
      }
    }
  },
  "nbformat": 4,
  "nbformat_minor": 5
}